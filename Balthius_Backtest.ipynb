{
  "nbformat": 4,
  "nbformat_minor": 0,
  "metadata": {
    "colab": {
      "name": "Balthius Backtest.ipynb",
      "provenance": [],
      "collapsed_sections": [],
      "authorship_tag": "ABX9TyPtcSujAo723ALldzNiXUyx",
      "include_colab_link": true
    },
    "kernelspec": {
      "name": "python3",
      "display_name": "Python 3"
    },
    "language_info": {
      "name": "python"
    }
  },
  "cells": [
    {
      "cell_type": "markdown",
      "metadata": {
        "id": "view-in-github",
        "colab_type": "text"
      },
      "source": [
        "<a href=\"https://colab.research.google.com/github/dougmusser/Balthius_Optimizer/blob/main/Balthius_Backtest.ipynb\" target=\"_parent\"><img src=\"https://colab.research.google.com/assets/colab-badge.svg\" alt=\"Open In Colab\"/></a>"
      ]
    },
    {
      "cell_type": "code",
      "metadata": {
        "id": "locOG1dao-aR",
        "cellView": "form",
        "colab": {
          "base_uri": "https://localhost:8080/"
        },
        "outputId": "fe0f2bfa-7739-41ed-f75b-433acac6542e"
      },
      "source": [
        "#@title Install External Packages\n",
        "\n",
        "!pip install scikit-optimize"
      ],
      "execution_count": 1,
      "outputs": [
        {
          "output_type": "stream",
          "text": [
            "Collecting scikit-optimize\n",
            "\u001b[?25l  Downloading https://files.pythonhosted.org/packages/8b/03/be33e89f55866065a02e515c5b319304a801a9f1027a9b311a9b1d1f8dc7/scikit_optimize-0.8.1-py2.py3-none-any.whl (101kB)\n",
            "\r\u001b[K     |███▎                            | 10kB 15.5MB/s eta 0:00:01\r\u001b[K     |██████▌                         | 20kB 11.3MB/s eta 0:00:01\r\u001b[K     |█████████▊                      | 30kB 8.6MB/s eta 0:00:01\r\u001b[K     |█████████████                   | 40kB 7.2MB/s eta 0:00:01\r\u001b[K     |████████████████▏               | 51kB 4.5MB/s eta 0:00:01\r\u001b[K     |███████████████████▍            | 61kB 4.4MB/s eta 0:00:01\r\u001b[K     |██████████████████████▊         | 71kB 5.0MB/s eta 0:00:01\r\u001b[K     |██████████████████████████      | 81kB 5.0MB/s eta 0:00:01\r\u001b[K     |█████████████████████████████▏  | 92kB 5.4MB/s eta 0:00:01\r\u001b[K     |████████████████████████████████| 102kB 4.0MB/s \n",
            "\u001b[?25hCollecting pyaml>=16.9\n",
            "  Downloading https://files.pythonhosted.org/packages/15/c4/1310a054d33abc318426a956e7d6df0df76a6ddfa9c66f6310274fb75d42/pyaml-20.4.0-py2.py3-none-any.whl\n",
            "Requirement already satisfied: joblib>=0.11 in /usr/local/lib/python3.7/dist-packages (from scikit-optimize) (1.0.1)\n",
            "Requirement already satisfied: numpy>=1.13.3 in /usr/local/lib/python3.7/dist-packages (from scikit-optimize) (1.19.5)\n",
            "Requirement already satisfied: scikit-learn>=0.20.0 in /usr/local/lib/python3.7/dist-packages (from scikit-optimize) (0.22.2.post1)\n",
            "Requirement already satisfied: scipy>=0.19.1 in /usr/local/lib/python3.7/dist-packages (from scikit-optimize) (1.4.1)\n",
            "Requirement already satisfied: PyYAML in /usr/local/lib/python3.7/dist-packages (from pyaml>=16.9->scikit-optimize) (3.13)\n",
            "Installing collected packages: pyaml, scikit-optimize\n",
            "Successfully installed pyaml-20.4.0 scikit-optimize-0.8.1\n"
          ],
          "name": "stdout"
        }
      ]
    },
    {
      "cell_type": "code",
      "metadata": {
        "id": "kKQNKqCI1Hgy"
      },
      "source": [
        "#@title Imports and utility methods\n",
        "\n",
        "import io\n",
        "import itertools\n",
        "import matplotlib.pyplot as plt\n",
        "import matplotlib.ticker\n",
        "import numpy as np\n",
        "import pandas as pd\n",
        "import re\n",
        "import requests\n",
        "import skopt\n",
        "import skopt.space\n",
        "import skopt.utils\n",
        "import tqdm\n",
        "import typing\n",
        "import zipfile\n",
        "from IPython.display import display\n",
        "from IPython.display import HTML\n",
        "from IPython.display import Image\n",
        "\n",
        "def get_sharpe(returns: pd.Series) -> np.float64:\n",
        "  '''Returns the sharpe ratio for a series of returns.'''\n",
        "  return np.sqrt(252) * returns.mean() / returns.std()\n",
        "\n",
        "def get_calmar(returns: pd.Series) -> float:\n",
        "  '''Returns Calmar ratio for a series of returns.\n",
        "\n",
        "  I prefer Calmar since it maximizes the return on invested capital vs the\n",
        "  downside risk. Shape tends to prefer strategies with low returns since they\n",
        "  have less volatility.\n",
        "\n",
        "  This implementation uses the cumulative sum of return instead of the\n",
        "  geometric mean since this back-test enables the balance to go negative. Risk\n",
        "  management and position sizing should be done outside of the optimizer.\n",
        "  '''\n",
        "  assert isinstance(returns.index.get_level_values(0)[0], pd.Timestamp)\n",
        "  returns = returns.sort_index(level=0)\n",
        "  sum_returns = returns.cumsum()\n",
        "  rolling_max = sum_returns.expanding(min_periods=1).max()\n",
        "  rolling_dd = rolling_max - sum_returns\n",
        "  max_rolling_dd = rolling_dd.max()\n",
        "  if max_rolling_dd <= 0:\n",
        "    # Reject strategies that don't have draw downs. They're not realistic.\n",
        "    return 0\n",
        "  return sum_returns.iloc[-1] / max_rolling_dd\n",
        "\n",
        "\n",
        "def truncated_calmar(returns: pd.Series, threshold: float=0.6) -> np.float64:\n",
        "  '''Returns a Calmar ratio with the positive returns truncated.\n",
        "\n",
        "  This reduces the effect of outliers when optimizing a strategy.\n",
        "  '''\n",
        "  positive_returns = returns.loc[returns > 0]\n",
        "  if positive_returns.empty:\n",
        "    # No positive returns\n",
        "    return get_calmar(returns)\n",
        "  returns = returns.copy()\n",
        "  # Truncate the largest returns.\n",
        "  returns.loc[returns > positive_returns.quantile(threshold)] = (\n",
        "      positive_returns.quantile(threshold))\n",
        "  return get_calmar(returns)\n",
        "\n",
        "def get_annualized_mean(returns: pd.Series) -> np.float64:\n",
        "  '''Get the annualized mean returns.'''\n",
        "  assert isinstance(returns.index.get_level_values(0)[0], pd.Timestamp)\n",
        "  start_date = returns.index.get_level_values(0).min()\n",
        "  end_date = returns.index.get_level_values(0).max()\n",
        "  num_years = ((end_date - start_date).days / 365)\n",
        "  # Annualized mean returns is the sum returns divided by the number\n",
        "  # of years.\n",
        "  return returns.sum() / num_years\n",
        "\n",
        "def skopt_gp_minimize(\n",
        "    space: typing.List[skopt.Space],\n",
        "    score_returns_fn,\n",
        "    n_calls=100,\n",
        "    **get_returns_kwargs):\n",
        "  '''Run skopt.gp_minimize for a given return scoring function.\n",
        "\n",
        "  This is a convenience wrapper for the conventions setup in this CoLab.\n",
        "  '''\n",
        "  \n",
        "  with tqdm.trange(n_calls, desc='running gp_minimize') as t:\n",
        "    @skopt.utils.use_named_args(space)\n",
        "    def wrapped_objective(**kwargs):\n",
        "      get_return_args = {}\n",
        "      get_return_args.update(get_returns_kwargs)\n",
        "      get_return_args.update(kwargs)\n",
        "      returns = get_returns(**get_return_args)\n",
        "      try:\n",
        "        if returns.empty:\n",
        "          return 0\n",
        "        return -score_returns_fn(returns)\n",
        "      finally:\n",
        "        t.update()\n",
        "\n",
        "    return skopt.gp_minimize(\n",
        "        wrapped_objective, space, n_calls=n_calls, random_state=0, n_jobs=-1)"
      ],
      "execution_count": 219,
      "outputs": []
    },
    {
      "cell_type": "code",
      "metadata": {
        "colab": {
          "base_uri": "https://localhost:8080/",
          "height": 176
        },
        "id": "QIDKBQ4P3RWn",
        "outputId": "af70e2d6-368a-444a-b51a-846c9f0e9270"
      },
      "source": [
        "#@title Download & Parse Cindicator data. Create a method to get the returns given parameters.\n",
        "\n",
        "# Download Cindicator data\n",
        "# Insert the URL for Balthius_Weekly_Cindicator_Exports_20210307.zip here.\n",
        "weekly_cindicator_export_url = 'INSERT URL FOR Balthius_Weekly_Cindicator_Exports_20210307.zip' #@param\n",
        "if weekly_cindicator_export_url.startswith('INSERT'):\n",
        "  weekly_cindicator_export_url = (\n",
        "      input('Input Balthius_Weekly_Cindicator_Exports_20210307.zip URL'))\n",
        "response = requests.get(weekly_cindicator_export_url, stream=True)\n",
        "assert response.status_code == 200\n",
        "zip_bytes = response.raw.read()\n",
        "\n",
        "# Parse Cindicator data\n",
        "option_data = []\n",
        "with zipfile.ZipFile(io.BytesIO(zip_bytes)) as zf:\n",
        "  for idx, f in enumerate(zf.filelist):\n",
        "    match = re.match(\n",
        "        r'Balthius ([A-Z][A-Z][A-Z]+) (\\dpct OTM|ATM) (\\d) Week Exp '\n",
        "        r'(\\d{4}-\\d{2}-\\d{2})\\.csv', f.filename)\n",
        "    if not match:\n",
        "      raise Exception(f'Unexpected filename: {f.filename}')\n",
        "    underlying_symbol, trade_target, week_exp, data_date = match.groups()\n",
        "\n",
        "    # Process trade_target\n",
        "    trade_target_pct_match = re.match(r'(\\d)pct OTM', trade_target)\n",
        "    if trade_target == 'ATM':\n",
        "      strike_pct = 0\n",
        "    elif trade_target_pct_match:\n",
        "      strike_pct = int(trade_target_pct_match.groups()[0])\n",
        "    else:\n",
        "      raise Exception(f'Unexpected trade_target={trade_target}')\n",
        "    # Process week_exp\n",
        "    week_exp = int(week_exp)\n",
        "    # Process data_date\n",
        "    data_date = pd.Timestamp(data_date).normalize()\n",
        "\n",
        "    with zf.open(f) as option_csv_content:\n",
        "      option_data_part = pd.read_csv(\n",
        "          option_csv_content, parse_dates=['Week Starting'],\n",
        "          index_col=['Week Starting'])\n",
        "      # print(option_data_part.columns)\n",
        "    # Reduce option_data_part to the columns of interest - also ensures the\n",
        "    # columns of interest are present in the DataFrame.\n",
        "    # Rename the columns to improve readability.\n",
        "    # Assign the filename identifiers to the DataFrame.\n",
        "    option_data.append(\n",
        "      option_data_part[[\n",
        "        'Open', 'Gap', 'ESC', 'ESF', 'ECC', 'BEF', 'PSC', 'PEF',\n",
        "        'CStrike', 'COC1', 'COH1',\n",
        "        'PStrike', 'POC1', 'POH1',\n",
        "      ]].rename(columns=dict(\n",
        "          Open='underlying_open', Gap='underlying_gap',\n",
        "          CStrike='c_strike', PStrike='put_strike')\n",
        "      ).assign(\n",
        "        underlying_symbol=underlying_symbol\n",
        "      ).assign(\n",
        "        strike_pct=strike_pct\n",
        "      ).assign(\n",
        "        week_exp=week_exp\n",
        "      ).assign(\n",
        "        data_date=data_date\n",
        "      ).set_index(\n",
        "          ['underlying_symbol', 'strike_pct', 'week_exp'], append=True\n",
        "      ))\n",
        "option_data = pd.concat(option_data).sort_index()\n",
        "# Ensure there are no duplicates\n",
        "assert not option_data.index.duplicated().any()\n",
        "display(option_data.head(2))\n",
        "display(f'option_data length: {len(option_data)}')\n",
        "\n",
        "#@title Extract Cindicator indicators from a random slice since the indicators are duplicated within the spreadsheet\n",
        "indicators = option_data.loc[\n",
        "  pd.IndexSlice[:, 'SPY', 0, 1],\n",
        "  ['ESC', 'ESF', 'ECC', 'BEF', 'PSC', 'PEF']\n",
        "].copy()\n",
        "indicators = indicators.set_index(\n",
        "    indicators.index.get_level_values('Week Starting')).sort_index()\n",
        "assert not indicators.index.duplicated().any()\n",
        "# Calculate indicator changes. Use changes of the log of the indicators instead\n",
        "# of percentage changes to minimize outliers. Expect all indicators to be > 1,\n",
        "# otherwise log will have issues. If this ever happens this code will need to\n",
        "# special-case handle zero values.\n",
        "assert (indicators > 0).all().all()\n",
        "indicator_changes = np.log(indicators).sub(np.log(indicators).shift(1)).dropna()\n",
        "indicator_changes.head(2)\n",
        "\n",
        "def get_returns(\n",
        "    symbol, esc_weight, esf_weight, ecc_weight, bef_weight, psc_weight,\n",
        "    pef_weight, strike_pct, week_exp,\n",
        "    # ratio_of_balance_to_trade,\n",
        "    last_week_weight, buy_puts_when_indicator_is_negative,\n",
        "    call_sell_trigger_pct, put_sell_trigger_pct):\n",
        "  '''Compute the option returns for a given set of parameters.\n",
        "\n",
        "  This uses the indicator_changes values above.\n",
        "  '''\n",
        "\n",
        "  # Computed the weighted indicator.\n",
        "  permutation_indicator = (\n",
        "    (indicator_changes['ESC'] * esc_weight)\n",
        "    + (indicator_changes['ESF'] * esf_weight)\n",
        "    + (indicator_changes['ECC'] * ecc_weight)\n",
        "    + (indicator_changes['BEF'] * bef_weight)\n",
        "    + (indicator_changes['PSC'] * psc_weight)\n",
        "    + (indicator_changes['PEF'] * pef_weight))\n",
        "  permutation_indicator = (\n",
        "      permutation_indicator +\n",
        "      permutation_indicator.shift(1).mul(last_week_weight)).dropna()\n",
        "  # Join the weighted indicators with the historical option data to enable\n",
        "  # applying the indicator results below. We can't use the indicator values\n",
        "  # in the option_data data frame since it's difficult to apply the\n",
        "  # last_week_weight parameter in that fashion.\n",
        "  option_data_with_indicators = option_data.loc[\n",
        "    pd.IndexSlice[\n",
        "      option_data.index.get_level_values('Week Starting').isin(\n",
        "          permutation_indicator.index),\n",
        "      symbol, strike_pct:strike_pct, week_exp:week_exp]]\n",
        "  option_data_with_indicators = (\n",
        "      option_data_with_indicators.assign(\n",
        "          indicator=permutation_indicator.loc[\n",
        "            option_data_with_indicators.index.get_level_values('Week Starting')\n",
        "          ].values))\n",
        "\n",
        "  # Start off with assuming zero returns (no trading) for each week.\n",
        "  returns = pd.Series(0, option_data_with_indicators.index)\n",
        "\n",
        "  # Apply the call on close returns where the indicator is positive.\n",
        "  returns.loc[option_data_with_indicators['indicator'] > 0] = (\n",
        "      option_data_with_indicators['COC1'])\n",
        "  # Apply the call sell trigger where the indicator is positive when the option\n",
        "  # high return was at least as high as call_sell_trigger_pct. If the option\n",
        "  # high didn't meet call_sell_trigger_pct then the COC1 value above is used\n",
        "  # for the return.\n",
        "  if call_sell_trigger_pct:\n",
        "    returns.loc[\n",
        "        (option_data_with_indicators['indicator'] > 0)\n",
        "        & (option_data_with_indicators['COH1'] >= call_sell_trigger_pct)\n",
        "    ] = call_sell_trigger_pct\n",
        "  # This back-tests puts depending on buy_puts_when_indicator_is_negative.\n",
        "  if buy_puts_when_indicator_is_negative:\n",
        "    # Apply the put on close returns where the indicator is negative.\n",
        "    returns.loc[option_data_with_indicators['indicator'] < 0] = (\n",
        "        option_data_with_indicators['POC1'])\n",
        "    # Apply the put sell trigger where the indicator is negative when the option\n",
        "    # high return was at least as high as put_sell_trigger_pct. If the option\n",
        "    # high didn't meet put_sell_trigger_pct then POC1 value above is used for\n",
        "    # the return.\n",
        "    if put_sell_trigger_pct:\n",
        "      returns.loc[\n",
        "        (option_data_with_indicators['indicator'] < 0)\n",
        "        & (option_data_with_indicators['POH1'] >= put_sell_trigger_pct)\n",
        "      ] = put_sell_trigger_pct\n",
        "  # Remove strange values.\n",
        "  returns.loc[np.isinf(returns)] = None\n",
        "  return returns"
      ],
      "execution_count": 217,
      "outputs": [
        {
          "output_type": "stream",
          "text": [
            "Input Balthius_Weekly_Cindicator_Exports_20210307.zip URLhttps://cdn.discordapp.com/attachments/786492289236205618/818166051966550046/Balthius_Weekly_Cindicator_Exports_20210307.zip\n"
          ],
          "name": "stdout"
        },
        {
          "output_type": "display_data",
          "data": {
            "text/plain": [
              "                                                     underlying_open  \\\n",
              "Week Starting underlying_symbol strike_pct week_exp                    \n",
              "2019-12-09    IWM               0          1                  162.75   \n",
              "                                           2                  162.75   \n",
              "\n",
              "                                                     underlying_gap  ESC  ESF  \\\n",
              "Week Starting underlying_symbol strike_pct week_exp                             \n",
              "2019-12-09    IWM               0          1                  -0.07   44   47   \n",
              "                                           2                  -0.07   44   47   \n",
              "\n",
              "                                                     ECC  BEF  PSC  PEF  \\\n",
              "Week Starting underlying_symbol strike_pct week_exp                       \n",
              "2019-12-09    IWM               0          1          59   47   48   44   \n",
              "                                           2          59   47   48   44   \n",
              "\n",
              "                                                     c_strike  COC1  COH1  \\\n",
              "Week Starting underlying_symbol strike_pct week_exp                         \n",
              "2019-12-09    IWM               0          1              163 -0.70  1.16   \n",
              "                                           2              163 -0.37  0.74   \n",
              "\n",
              "                                                     put_strike  POC1  POH1  \\\n",
              "Week Starting underlying_symbol strike_pct week_exp                           \n",
              "2019-12-09    IWM               0          1                163 -0.98  0.37   \n",
              "                                           2                163 -0.38  0.26   \n",
              "\n",
              "                                                     data_date  \n",
              "Week Starting underlying_symbol strike_pct week_exp             \n",
              "2019-12-09    IWM               0          1        2021-03-07  \n",
              "                                           2        2021-03-07  "
            ],
            "text/html": [
              "<div>\n",
              "<style scoped>\n",
              "    .dataframe tbody tr th:only-of-type {\n",
              "        vertical-align: middle;\n",
              "    }\n",
              "\n",
              "    .dataframe tbody tr th {\n",
              "        vertical-align: top;\n",
              "    }\n",
              "\n",
              "    .dataframe thead th {\n",
              "        text-align: right;\n",
              "    }\n",
              "</style>\n",
              "<table border=\"1\" class=\"dataframe\">\n",
              "  <thead>\n",
              "    <tr style=\"text-align: right;\">\n",
              "      <th></th>\n",
              "      <th></th>\n",
              "      <th></th>\n",
              "      <th></th>\n",
              "      <th>underlying_open</th>\n",
              "      <th>underlying_gap</th>\n",
              "      <th>ESC</th>\n",
              "      <th>ESF</th>\n",
              "      <th>ECC</th>\n",
              "      <th>BEF</th>\n",
              "      <th>PSC</th>\n",
              "      <th>PEF</th>\n",
              "      <th>c_strike</th>\n",
              "      <th>COC1</th>\n",
              "      <th>COH1</th>\n",
              "      <th>put_strike</th>\n",
              "      <th>POC1</th>\n",
              "      <th>POH1</th>\n",
              "      <th>data_date</th>\n",
              "    </tr>\n",
              "    <tr>\n",
              "      <th>Week Starting</th>\n",
              "      <th>underlying_symbol</th>\n",
              "      <th>strike_pct</th>\n",
              "      <th>week_exp</th>\n",
              "      <th></th>\n",
              "      <th></th>\n",
              "      <th></th>\n",
              "      <th></th>\n",
              "      <th></th>\n",
              "      <th></th>\n",
              "      <th></th>\n",
              "      <th></th>\n",
              "      <th></th>\n",
              "      <th></th>\n",
              "      <th></th>\n",
              "      <th></th>\n",
              "      <th></th>\n",
              "      <th></th>\n",
              "      <th></th>\n",
              "    </tr>\n",
              "  </thead>\n",
              "  <tbody>\n",
              "    <tr>\n",
              "      <th rowspan=\"2\" valign=\"top\">2019-12-09</th>\n",
              "      <th rowspan=\"2\" valign=\"top\">IWM</th>\n",
              "      <th rowspan=\"2\" valign=\"top\">0</th>\n",
              "      <th>1</th>\n",
              "      <td>162.75</td>\n",
              "      <td>-0.07</td>\n",
              "      <td>44</td>\n",
              "      <td>47</td>\n",
              "      <td>59</td>\n",
              "      <td>47</td>\n",
              "      <td>48</td>\n",
              "      <td>44</td>\n",
              "      <td>163</td>\n",
              "      <td>-0.70</td>\n",
              "      <td>1.16</td>\n",
              "      <td>163</td>\n",
              "      <td>-0.98</td>\n",
              "      <td>0.37</td>\n",
              "      <td>2021-03-07</td>\n",
              "    </tr>\n",
              "    <tr>\n",
              "      <th>2</th>\n",
              "      <td>162.75</td>\n",
              "      <td>-0.07</td>\n",
              "      <td>44</td>\n",
              "      <td>47</td>\n",
              "      <td>59</td>\n",
              "      <td>47</td>\n",
              "      <td>48</td>\n",
              "      <td>44</td>\n",
              "      <td>163</td>\n",
              "      <td>-0.37</td>\n",
              "      <td>0.74</td>\n",
              "      <td>163</td>\n",
              "      <td>-0.38</td>\n",
              "      <td>0.26</td>\n",
              "      <td>2021-03-07</td>\n",
              "    </tr>\n",
              "  </tbody>\n",
              "</table>\n",
              "</div>"
            ]
          },
          "metadata": {
            "tags": []
          }
        },
        {
          "output_type": "display_data",
          "data": {
            "text/plain": [
              "'option_data length: 1040'"
            ]
          },
          "metadata": {
            "tags": []
          }
        }
      ]
    },
    {
      "cell_type": "code",
      "metadata": {
        "colab": {
          "base_uri": "https://localhost:8080/",
          "height": 1000
        },
        "id": "vxp5vqD03aR6",
        "outputId": "925b1941-3e0b-4363-8ade-18879406d694"
      },
      "source": [
        "#@title Compare the results of various strategies to explore how different configurations affect returns. This is a prelude into using a risk-adjusted optimizer to find an ideal trading parameter setting.\n",
        "\n",
        "def disply_trading_results(\n",
        "    title: str, desc: str, symbols=('SPY', 'IWM'),\n",
        "    returns: pd.Series=None,\n",
        "    esc_weight=1, esf_weight=1, ecc_weight=1, bef_weight=1, psc_weight=1,\n",
        "    pef_weight=1, strike_pct=0, week_exp=1, last_week_weight=0,\n",
        "    buy_puts_when_indicator_is_negative=False, call_sell_trigger_pct=0,\n",
        "    put_sell_trigger_pct=0,\n",
        "    comp_benchmarks: pd.DataFrame=None,\n",
        "    comp_benchmarks_name: str=''):\n",
        "\n",
        "  if returns is None:\n",
        "    # Compute returns if not provided\n",
        "    returns = pd.concat(\n",
        "      get_returns(\n",
        "          symbol=symbol, esc_weight=esc_weight, esf_weight=esf_weight,\n",
        "          ecc_weight=ecc_weight, bef_weight=bef_weight, psc_weight=psc_weight,\n",
        "          pef_weight=pef_weight, strike_pct=strike_pct, week_exp=week_exp,\n",
        "          last_week_weight=last_week_weight,\n",
        "          buy_puts_when_indicator_is_negative=buy_puts_when_indicator_is_negative,\n",
        "          call_sell_trigger_pct=call_sell_trigger_pct,\n",
        "          put_sell_trigger_pct=put_sell_trigger_pct)\n",
        "      for symbol in symbols)\n",
        "  plt.figure()\n",
        "  ax = (\n",
        "      returns.droplevel(['strike_pct', 'week_exp']).unstack('underlying_symbol')\n",
        "      .cumsum()\n",
        "  ).plot(figsize=(8, 4))\n",
        "  ax.xaxis.set_label_text('')\n",
        "  ax.yaxis.set_label_text('Cumulative returns\\nrelative to trade size')\n",
        "  ax.yaxis.set_major_formatter(matplotlib.ticker.PercentFormatter(1))\n",
        "  imgbuf = io.BytesIO()\n",
        "  plt.savefig(imgbuf)\n",
        "  imgbuf.flush()\n",
        "  plt.close()\n",
        "  benchmarks = (\n",
        "      returns.groupby(level='underlying_symbol')\n",
        "      .agg(annualized_mean=get_annualized_mean, calmar=get_calmar,\n",
        "              sharpe=get_sharpe))\n",
        "  benchmarks_for_display = benchmarks.copy()\n",
        "  if comp_benchmarks is not None:\n",
        "    comp_benchmarks = benchmarks.sub(comp_benchmarks)\n",
        "    comp_benchmarks_for_display = comp_benchmarks.copy()\n",
        "  for col, format in {\n",
        "      'annualized_mean': '{:,.0%}',\n",
        "      'calmar': '{:,.0%}',\n",
        "      'sharpe': '{:,.1f}'}.items():\n",
        "    benchmarks_for_display[col] = benchmarks_for_display[col].map(format.format)\n",
        "    if comp_benchmarks is not None:\n",
        "      comp_benchmarks_for_display[col] = (\n",
        "          comp_benchmarks_for_display[col].map(format.format))\n",
        "  if comp_benchmarks is not None:\n",
        "    assert comp_benchmarks_name\n",
        "    benchmarks_for_display = benchmarks_for_display.join(\n",
        "        comp_benchmarks_for_display, rsuffix=f'_vs_{comp_benchmarks_name}')\n",
        "  display(\n",
        "      HTML(f'<h2>{title}</h2>{desc}'),\n",
        "      benchmarks_for_display,\n",
        "      Image(imgbuf.getvalue()),\n",
        "      HTML('<hr>'))\n",
        "  return benchmarks\n",
        "\n",
        "no_indicator_benchmarks = disply_trading_results(\n",
        "    title='No indicators, Always buy calls',\n",
        "    desc=('The results of not using any indicators.\\n'\n",
        "          'Cindicator results are compared to these results'),\n",
        "    returns=option_data.loc[pd.IndexSlice[:, :, 0, 1], 'COC1'])\n",
        "call_only_benchmarks = disply_trading_results(\n",
        "    title='Baseline Indicator Strategy',\n",
        "    desc=(\n",
        "        'Buy 1 Week ATM calls when indicator mean is postitive<p>'\n",
        "        'The indicators demonstrate significant improvements to returns.<p>'\n",
        "        'The returns are higher as measured in mean returns and risk '\n",
        "        'adjusted Calmar and shapre returns.'\n",
        "        '<h3>Analysis</h3>'\n",
        "        'Use the indicators as a signal for trading vs always buying calls.'),\n",
        "    comp_benchmarks=no_indicator_benchmarks,\n",
        "    comp_benchmarks_name='no_indicator')\n",
        "disply_trading_results(\n",
        "    title='Baseline Indicator Strategy with Puts',\n",
        "    desc=(\n",
        "        'Buy 1 Week ATM calls when indicator mean is postitive<br>'\n",
        "        'and 1 week ATM puts when indicator mean is negative<p/>'\n",
        "        'Adding puts improves IWM reutrns but reduces SPY returns.<br>'\n",
        "        'This comes at the cost of <b>increased risk</b> as measured by Calmar '\n",
        "        'sharpe ratios.<br>'\n",
        "        'Traing puts means reducing position sizes to account for risk '\n",
        "        'increase'\n",
        "        '<h3>Analysis</h3>'\n",
        "        '<b>Do not trade puts</b>, they always increase risk and sometimes '\n",
        "        'increase returns'),\n",
        "    buy_puts_when_indicator_is_negative=True,\n",
        "    comp_benchmarks=call_only_benchmarks,\n",
        "    comp_benchmarks_name='call_only')\n",
        "disply_trading_results(\n",
        "    title='Calls when indicator >0 strike 1% of underlying price',\n",
        "    desc=(\n",
        "        'This approach increases overall all returns but '\n",
        "        '<b>decreases</b> returns when accounting for risk as measured<br>'\n",
        "        'by Calmar and sharpe. It would require reduced position sizes to '\n",
        "        'trade.'\n",
        "        '<h3>Analysis</h3>'\n",
        "        'Do not use due to increased risk.'),\n",
        "    strike_pct=1,\n",
        "    comp_benchmarks=call_only_benchmarks,\n",
        "    comp_benchmarks_name='call_only')\n",
        "disply_trading_results(\n",
        "    title='Calls when indicator >0, ATM options, 2-week expiration',\n",
        "    desc=(\n",
        "        'This approach decreaes returns and varies based on risk adjusted '\n",
        "        'Calmar and sharpe returns.<br>'\n",
        "        '<h3>Analysis</h3>'\n",
        "        'Do not use. This does not improve on the baseline indicator strategy.'),\n",
        "    week_exp=2,\n",
        "    comp_benchmarks=call_only_benchmarks,\n",
        "    comp_benchmarks_name='call_only')\n",
        "None # Don't display the return value of the last line in the cell"
      ],
      "execution_count": 6,
      "outputs": [
        {
          "output_type": "display_data",
          "data": {
            "text/html": [
              "<h2>No indicators, Always buy calls</h2>The results of not using any indicators.\n",
              "Cindicator results are compared to these results"
            ],
            "text/plain": [
              "<IPython.core.display.HTML object>"
            ]
          },
          "metadata": {
            "tags": []
          }
        },
        {
          "output_type": "display_data",
          "data": {
            "text/html": [
              "<div>\n",
              "<style scoped>\n",
              "    .dataframe tbody tr th:only-of-type {\n",
              "        vertical-align: middle;\n",
              "    }\n",
              "\n",
              "    .dataframe tbody tr th {\n",
              "        vertical-align: top;\n",
              "    }\n",
              "\n",
              "    .dataframe thead th {\n",
              "        text-align: right;\n",
              "    }\n",
              "</style>\n",
              "<table border=\"1\" class=\"dataframe\">\n",
              "  <thead>\n",
              "    <tr style=\"text-align: right;\">\n",
              "      <th></th>\n",
              "      <th>annualized_mean</th>\n",
              "      <th>calmar</th>\n",
              "      <th>sharpe</th>\n",
              "    </tr>\n",
              "    <tr>\n",
              "      <th>underlying_symbol</th>\n",
              "      <th></th>\n",
              "      <th></th>\n",
              "      <th></th>\n",
              "    </tr>\n",
              "  </thead>\n",
              "  <tbody>\n",
              "    <tr>\n",
              "      <th>IWM</th>\n",
              "      <td>-24%</td>\n",
              "      <td>-5%</td>\n",
              "      <td>-0.1</td>\n",
              "    </tr>\n",
              "    <tr>\n",
              "      <th>QQQ</th>\n",
              "      <td>948%</td>\n",
              "      <td>226%</td>\n",
              "      <td>2.2</td>\n",
              "    </tr>\n",
              "    <tr>\n",
              "      <th>SPY</th>\n",
              "      <td>331%</td>\n",
              "      <td>74%</td>\n",
              "      <td>0.8</td>\n",
              "    </tr>\n",
              "  </tbody>\n",
              "</table>\n",
              "</div>"
            ],
            "text/plain": [
              "                  annualized_mean calmar sharpe\n",
              "underlying_symbol                              \n",
              "IWM                          -24%    -5%   -0.1\n",
              "QQQ                          948%   226%    2.2\n",
              "SPY                          331%    74%    0.8"
            ]
          },
          "metadata": {
            "tags": []
          }
        },
        {
          "output_type": "display_data",
          "data": {
            "image/png": "[encoded data removed]",
            "text/plain": [
              "<IPython.core.display.Image object>"
            ]
          },
          "metadata": {
            "tags": []
          }
        },
        {
          "output_type": "display_data",
          "data": {
            "text/html": [
              "<hr>"
            ],
            "text/plain": [
              "<IPython.core.display.HTML object>"
            ]
          },
          "metadata": {
            "tags": []
          }
        },
        {
          "output_type": "display_data",
          "data": {
            "text/html": [
              "<h2>Baseline Indicator Strategy</h2>Buy 1 Week ATM calls when indicator mean is postitive<p>The indicators demonstrate significant improvements to returns.<p>The returns are higher as measured in mean returns and risk adjusted Calmar and shapre returns.<h3>Analysis</h3>Use the indicators as a signal for trading vs always buying calls."
            ],
            "text/plain": [
              "<IPython.core.display.HTML object>"
            ]
          },
          "metadata": {
            "tags": []
          }
        },
        {
          "output_type": "display_data",
          "data": {
            "text/html": [
              "<div>\n",
              "<style scoped>\n",
              "    .dataframe tbody tr th:only-of-type {\n",
              "        vertical-align: middle;\n",
              "    }\n",
              "\n",
              "    .dataframe tbody tr th {\n",
              "        vertical-align: top;\n",
              "    }\n",
              "\n",
              "    .dataframe thead th {\n",
              "        text-align: right;\n",
              "    }\n",
              "</style>\n",
              "<table border=\"1\" class=\"dataframe\">\n",
              "  <thead>\n",
              "    <tr style=\"text-align: right;\">\n",
              "      <th></th>\n",
              "      <th>annualized_mean</th>\n",
              "      <th>calmar</th>\n",
              "      <th>sharpe</th>\n",
              "      <th>annualized_mean_vs_no_indicator</th>\n",
              "      <th>calmar_vs_no_indicator</th>\n",
              "      <th>sharpe_vs_no_indicator</th>\n",
              "    </tr>\n",
              "    <tr>\n",
              "      <th>underlying_symbol</th>\n",
              "      <th></th>\n",
              "      <th></th>\n",
              "      <th></th>\n",
              "      <th></th>\n",
              "      <th></th>\n",
              "      <th></th>\n",
              "    </tr>\n",
              "  </thead>\n",
              "  <tbody>\n",
              "    <tr>\n",
              "      <th>IWM</th>\n",
              "      <td>1,079%</td>\n",
              "      <td>553%</td>\n",
              "      <td>3.2</td>\n",
              "      <td>1,103%</td>\n",
              "      <td>558%</td>\n",
              "      <td>3.2</td>\n",
              "    </tr>\n",
              "    <tr>\n",
              "      <th>SPY</th>\n",
              "      <td>1,431%</td>\n",
              "      <td>1,070%</td>\n",
              "      <td>4.3</td>\n",
              "      <td>1,100%</td>\n",
              "      <td>996%</td>\n",
              "      <td>3.5</td>\n",
              "    </tr>\n",
              "  </tbody>\n",
              "</table>\n",
              "</div>"
            ],
            "text/plain": [
              "                  annualized_mean  ... sharpe_vs_no_indicator\n",
              "underlying_symbol                  ...                       \n",
              "IWM                        1,079%  ...                    3.2\n",
              "SPY                        1,431%  ...                    3.5\n",
              "\n",
              "[2 rows x 6 columns]"
            ]
          },
          "metadata": {
            "tags": []
          }
        },
        {
          "output_type": "display_data",
          "data": {
            "image/png": "[encoded data removed]",
            "text/plain": [
              "<IPython.core.display.Image object>"
            ]
          },
          "metadata": {
            "tags": []
          }
        },
        {
          "output_type": "display_data",
          "data": {
            "text/html": [
              "<hr>"
            ],
            "text/plain": [
              "<IPython.core.display.HTML object>"
            ]
          },
          "metadata": {
            "tags": []
          }
        },
        {
          "output_type": "display_data",
          "data": {
            "text/html": [
              "<h2>Baseline Indicator Strategy with Puts</h2>Buy 1 Week ATM calls when indicator mean is postitive<br>and 1 week ATM puts when indicator mean is negative<p/>Adding puts improves IWM reutrns but reduces SPY returns.<br>This comes at the cost of <b>increased risk</b> as measured by Calmar sharpe ratios.<br>Traing puts means reducing position sizes to account for risk increase<h3>Analysis</h3><b>Do not trade puts</b>, they always increase risk and sometimes increase returns"
            ],
            "text/plain": [
              "<IPython.core.display.HTML object>"
            ]
          },
          "metadata": {
            "tags": []
          }
        },
        {
          "output_type": "display_data",
          "data": {
            "text/html": [
              "<div>\n",
              "<style scoped>\n",
              "    .dataframe tbody tr th:only-of-type {\n",
              "        vertical-align: middle;\n",
              "    }\n",
              "\n",
              "    .dataframe tbody tr th {\n",
              "        vertical-align: top;\n",
              "    }\n",
              "\n",
              "    .dataframe thead th {\n",
              "        text-align: right;\n",
              "    }\n",
              "</style>\n",
              "<table border=\"1\" class=\"dataframe\">\n",
              "  <thead>\n",
              "    <tr style=\"text-align: right;\">\n",
              "      <th></th>\n",
              "      <th>annualized_mean</th>\n",
              "      <th>calmar</th>\n",
              "      <th>sharpe</th>\n",
              "      <th>annualized_mean_vs_call_only</th>\n",
              "      <th>calmar_vs_call_only</th>\n",
              "      <th>sharpe_vs_call_only</th>\n",
              "    </tr>\n",
              "    <tr>\n",
              "      <th>underlying_symbol</th>\n",
              "      <th></th>\n",
              "      <th></th>\n",
              "      <th></th>\n",
              "      <th></th>\n",
              "      <th></th>\n",
              "      <th></th>\n",
              "    </tr>\n",
              "  </thead>\n",
              "  <tbody>\n",
              "    <tr>\n",
              "      <th>IWM</th>\n",
              "      <td>1,423%</td>\n",
              "      <td>272%</td>\n",
              "      <td>3.0</td>\n",
              "      <td>344%</td>\n",
              "      <td>-281%</td>\n",
              "      <td>-0.2</td>\n",
              "    </tr>\n",
              "    <tr>\n",
              "      <th>SPY</th>\n",
              "      <td>1,267%</td>\n",
              "      <td>455%</td>\n",
              "      <td>2.9</td>\n",
              "      <td>-164%</td>\n",
              "      <td>-615%</td>\n",
              "      <td>-1.4</td>\n",
              "    </tr>\n",
              "  </tbody>\n",
              "</table>\n",
              "</div>"
            ],
            "text/plain": [
              "                  annualized_mean  ... sharpe_vs_call_only\n",
              "underlying_symbol                  ...                    \n",
              "IWM                        1,423%  ...                -0.2\n",
              "SPY                        1,267%  ...                -1.4\n",
              "\n",
              "[2 rows x 6 columns]"
            ]
          },
          "metadata": {
            "tags": []
          }
        },
        {
          "output_type": "display_data",
          "data": {
            "image/png": "[encoded data removed]",
            "text/plain": [
              "<IPython.core.display.Image object>"
            ]
          },
          "metadata": {
            "tags": []
          }
        },
        {
          "output_type": "display_data",
          "data": {
            "text/html": [
              "<hr>"
            ],
            "text/plain": [
              "<IPython.core.display.HTML object>"
            ]
          },
          "metadata": {
            "tags": []
          }
        },
        {
          "output_type": "display_data",
          "data": {
            "text/html": [
              "<h2>Calls when indicator >0 strike 1% of underlying price</h2>This approach increases overall all returns but <b>decreases</b> returns when accounting for risk as measured<br>by Calmar and sharpe. It would require reduced position sizes to trade.<h3>Analysis</h3>Do not use due to increased risk."
            ],
            "text/plain": [
              "<IPython.core.display.HTML object>"
            ]
          },
          "metadata": {
            "tags": []
          }
        },
        {
          "output_type": "display_data",
          "data": {
            "text/html": [
              "<div>\n",
              "<style scoped>\n",
              "    .dataframe tbody tr th:only-of-type {\n",
              "        vertical-align: middle;\n",
              "    }\n",
              "\n",
              "    .dataframe tbody tr th {\n",
              "        vertical-align: top;\n",
              "    }\n",
              "\n",
              "    .dataframe thead th {\n",
              "        text-align: right;\n",
              "    }\n",
              "</style>\n",
              "<table border=\"1\" class=\"dataframe\">\n",
              "  <thead>\n",
              "    <tr style=\"text-align: right;\">\n",
              "      <th></th>\n",
              "      <th>annualized_mean</th>\n",
              "      <th>calmar</th>\n",
              "      <th>sharpe</th>\n",
              "      <th>annualized_mean_vs_call_only</th>\n",
              "      <th>calmar_vs_call_only</th>\n",
              "      <th>sharpe_vs_call_only</th>\n",
              "    </tr>\n",
              "    <tr>\n",
              "      <th>underlying_symbol</th>\n",
              "      <th></th>\n",
              "      <th></th>\n",
              "      <th></th>\n",
              "      <th></th>\n",
              "      <th></th>\n",
              "      <th></th>\n",
              "    </tr>\n",
              "  </thead>\n",
              "  <tbody>\n",
              "    <tr>\n",
              "      <th>IWM</th>\n",
              "      <td>1,447%</td>\n",
              "      <td>550%</td>\n",
              "      <td>3.0</td>\n",
              "      <td>368%</td>\n",
              "      <td>-3%</td>\n",
              "      <td>-0.2</td>\n",
              "    </tr>\n",
              "    <tr>\n",
              "      <th>SPY</th>\n",
              "      <td>1,844%</td>\n",
              "      <td>419%</td>\n",
              "      <td>3.5</td>\n",
              "      <td>414%</td>\n",
              "      <td>-651%</td>\n",
              "      <td>-0.8</td>\n",
              "    </tr>\n",
              "  </tbody>\n",
              "</table>\n",
              "</div>"
            ],
            "text/plain": [
              "                  annualized_mean  ... sharpe_vs_call_only\n",
              "underlying_symbol                  ...                    \n",
              "IWM                        1,447%  ...                -0.2\n",
              "SPY                        1,844%  ...                -0.8\n",
              "\n",
              "[2 rows x 6 columns]"
            ]
          },
          "metadata": {
            "tags": []
          }
        },
        {
          "output_type": "display_data",
          "data": {
            "image/png": "[encoded data removed]",
            "text/plain": [
              "<IPython.core.display.Image object>"
            ]
          },
          "metadata": {
            "tags": []
          }
        },
        {
          "output_type": "display_data",
          "data": {
            "text/html": [
              "<hr>"
            ],
            "text/plain": [
              "<IPython.core.display.HTML object>"
            ]
          },
          "metadata": {
            "tags": []
          }
        },
        {
          "output_type": "display_data",
          "data": {
            "text/html": [
              "<h2>Calls when indicator >0, ATM options, 2-week expiration</h2>This approach decreaes returns and varies based on risk adjusted Calmar and sharpe returns.<br><h3>Analysis</h3>Do not use. This does not improve on the baseline indicator strategy."
            ],
            "text/plain": [
              "<IPython.core.display.HTML object>"
            ]
          },
          "metadata": {
            "tags": []
          }
        },
        {
          "output_type": "display_data",
          "data": {
            "text/html": [
              "<div>\n",
              "<style scoped>\n",
              "    .dataframe tbody tr th:only-of-type {\n",
              "        vertical-align: middle;\n",
              "    }\n",
              "\n",
              "    .dataframe tbody tr th {\n",
              "        vertical-align: top;\n",
              "    }\n",
              "\n",
              "    .dataframe thead th {\n",
              "        text-align: right;\n",
              "    }\n",
              "</style>\n",
              "<table border=\"1\" class=\"dataframe\">\n",
              "  <thead>\n",
              "    <tr style=\"text-align: right;\">\n",
              "      <th></th>\n",
              "      <th>annualized_mean</th>\n",
              "      <th>calmar</th>\n",
              "      <th>sharpe</th>\n",
              "      <th>annualized_mean_vs_call_only</th>\n",
              "      <th>calmar_vs_call_only</th>\n",
              "      <th>sharpe_vs_call_only</th>\n",
              "    </tr>\n",
              "    <tr>\n",
              "      <th>underlying_symbol</th>\n",
              "      <th></th>\n",
              "      <th></th>\n",
              "      <th></th>\n",
              "      <th></th>\n",
              "      <th></th>\n",
              "      <th></th>\n",
              "    </tr>\n",
              "  </thead>\n",
              "  <tbody>\n",
              "    <tr>\n",
              "      <th>IWM</th>\n",
              "      <td>874%</td>\n",
              "      <td>866%</td>\n",
              "      <td>3.9</td>\n",
              "      <td>-205%</td>\n",
              "      <td>313%</td>\n",
              "      <td>0.8</td>\n",
              "    </tr>\n",
              "    <tr>\n",
              "      <th>SPY</th>\n",
              "      <td>873%</td>\n",
              "      <td>805%</td>\n",
              "      <td>4.3</td>\n",
              "      <td>-558%</td>\n",
              "      <td>-265%</td>\n",
              "      <td>0.0</td>\n",
              "    </tr>\n",
              "  </tbody>\n",
              "</table>\n",
              "</div>"
            ],
            "text/plain": [
              "                  annualized_mean  ... sharpe_vs_call_only\n",
              "underlying_symbol                  ...                    \n",
              "IWM                          874%  ...                 0.8\n",
              "SPY                          873%  ...                 0.0\n",
              "\n",
              "[2 rows x 6 columns]"
            ]
          },
          "metadata": {
            "tags": []
          }
        },
        {
          "output_type": "display_data",
          "data": {
            "image/png": "[encoded data removed]",
            "text/plain": [
              "<IPython.core.display.Image object>"
            ]
          },
          "metadata": {
            "tags": []
          }
        },
        {
          "output_type": "display_data",
          "data": {
            "text/html": [
              "<hr>"
            ],
            "text/plain": [
              "<IPython.core.display.HTML object>"
            ]
          },
          "metadata": {
            "tags": []
          }
        },
        {
          "output_type": "display_data",
          "data": {
            "text/plain": [
              "<Figure size 432x288 with 0 Axes>"
            ]
          },
          "metadata": {
            "tags": []
          }
        },
        {
          "output_type": "display_data",
          "data": {
            "text/plain": [
              "<Figure size 432x288 with 0 Axes>"
            ]
          },
          "metadata": {
            "tags": []
          }
        },
        {
          "output_type": "display_data",
          "data": {
            "text/plain": [
              "<Figure size 432x288 with 0 Axes>"
            ]
          },
          "metadata": {
            "tags": []
          }
        },
        {
          "output_type": "display_data",
          "data": {
            "text/plain": [
              "<Figure size 432x288 with 0 Axes>"
            ]
          },
          "metadata": {
            "tags": []
          }
        },
        {
          "output_type": "display_data",
          "data": {
            "text/plain": [
              "<Figure size 432x288 with 0 Axes>"
            ]
          },
          "metadata": {
            "tags": []
          }
        }
      ]
    },
    {
      "cell_type": "code",
      "metadata": {
        "colab": {
          "base_uri": "https://localhost:8080/"
        },
        "id": "HfmkSSHgN9Ko",
        "outputId": "7242939b-3f83-4220-d4be-58885d9b98a8"
      },
      "source": [
        "optimize_space = [\n",
        "  skopt.space.Real(-1, 1, name='esc_weight'),\n",
        "  skopt.space.Real(-1, 1, name='esf_weight'),\n",
        "  skopt.space.Real(-1, 1, name='ecc_weight'),\n",
        "  skopt.space.Real(-1, 1, name='bef_weight'),\n",
        "  skopt.space.Real(-1, 1, name='psc_weight'),\n",
        "  skopt.space.Real(-1, 1, name='pef_weight'),\n",
        "  skopt.space.Real(0, 1, name='last_week_weight'),\n",
        "  skopt.space.Real(0, 8, name='call_sell_trigger_pct'),\n",
        "]\n",
        "\n",
        "hard_coded_params = dict(\n",
        "    symbol='SPY',\n",
        "    strike_pct=0,\n",
        "    week_exp=1,\n",
        "    buy_puts_when_indicator_is_negative=False,\n",
        "    put_sell_trigger_pct=0)\n",
        "\n",
        "res_gp = skopt_gp_minimize(\n",
        "    optimize_space, truncated_calmar, n_calls=300,\n",
        "    **hard_coded_params)"
      ],
      "execution_count": null,
      "outputs": [
        {
          "output_type": "stream",
          "text": [
            "running gp_minimize:  16%|█▌        | 48/300 [00:27<03:59,  1.05it/s]/home/dougmusser/py38/lib/python3.8/site-packages/skopt/optimizer/optimizer.py:449: UserWarning: The objective has been evaluated at this point before.\n",
            "  warnings.warn(\"The objective has been evaluated \"\n",
            "running gp_minimize:  47%|████▋     | 141/300 [03:34<07:45,  2.92s/it]/home/dougmusser/py38/lib/python3.8/site-packages/skopt/optimizer/optimizer.py:449: UserWarning: The objective has been evaluated at this point before.\n",
            "  warnings.warn(\"The objective has been evaluated \"\n",
            "running gp_minimize:  47%|████▋     | 142/300 [03:37<08:13,  3.12s/it]/home/dougmusser/py38/lib/python3.8/site-packages/skopt/optimizer/optimizer.py:449: UserWarning: The objective has been evaluated at this point before.\n",
            "  warnings.warn(\"The objective has been evaluated \"\n",
            "running gp_minimize:  48%|████▊     | 143/300 [03:41<08:15,  3.16s/it]/home/dougmusser/py38/lib/python3.8/site-packages/skopt/optimizer/optimizer.py:449: UserWarning: The objective has been evaluated at this point before.\n",
            "  warnings.warn(\"The objective has been evaluated \"\n",
            "running gp_minimize:  62%|██████▏   | 187/300 [06:37<09:28,  5.03s/it]"
          ],
          "name": "stderr"
        }
      ]
    },
    {
      "cell_type": "code",
      "metadata": {
        "colab": {
          "base_uri": "https://localhost:8080/",
          "height": 870
        },
        "id": "uQtdHju3S8ZC",
        "outputId": "cfd16aaa-87c1-411a-c8cd-975a49faf8b7"
      },
      "source": [
        "optimize_results = [\n",
        "  dict(zip((s.name for s in optimize_space), i))\n",
        "  for i in res_gp.x_iters]\n",
        "for res in optimize_results:\n",
        "  get_returns_args = {}\n",
        "  get_returns_args.update(hard_coded_params)\n",
        "  get_returns_args.update(res)\n",
        "  returns = get_returns(**get_returns_args)\n",
        "  res['mean_returns'] = returns.mean()\n",
        "  res['calmar'] = get_calmar(returns)\n",
        "  res['truncated_calmar'] = truncated_calmar(returns)\n",
        "  res['sharpe'] = get_sharpe(returns)\n",
        "  res['returns'] = returns\n",
        "optimize_results = pd.DataFrame.from_records(optimize_results).sort_values(\n",
        "    'truncated_calmar', ascending=False)\n",
        "display(\n",
        "    HTML('<h1>ATM 1 Week Call Only Optimized Returns</h1>'),\n",
        "    HTML('<h2>Best scoring optimized parameters</h2>'),\n",
        "    optimize_results.drop('returns', axis=1).head(5),\n",
        "    HTML('<hr>'),)\n",
        "disply_trading_results(\n",
        "    title='Returns Deep Dive',\n",
        "    desc='',\n",
        "    returns=optimize_results.iloc[0].returns,\n",
        "    comp_benchmarks=call_only_benchmarks,\n",
        "    comp_benchmarks_name='non_optimized')"
      ],
      "execution_count": 109,
      "outputs": [
        {
          "output_type": "display_data",
          "data": {
            "text/html": [
              "<h1>ATM 1 Week Call Only Optimized Returns</h1>"
            ],
            "text/plain": [
              "<IPython.core.display.HTML object>"
            ]
          },
          "metadata": {
            "tags": []
          }
        },
        {
          "output_type": "display_data",
          "data": {
            "text/html": [
              "<h2>Best scoring optimized parameters</h2>"
            ],
            "text/plain": [
              "<IPython.core.display.HTML object>"
            ]
          },
          "metadata": {
            "tags": []
          }
        },
        {
          "output_type": "display_data",
          "data": {
            "text/html": [
              "<div>\n",
              "<style scoped>\n",
              "    .dataframe tbody tr th:only-of-type {\n",
              "        vertical-align: middle;\n",
              "    }\n",
              "\n",
              "    .dataframe tbody tr th {\n",
              "        vertical-align: top;\n",
              "    }\n",
              "\n",
              "    .dataframe thead th {\n",
              "        text-align: right;\n",
              "    }\n",
              "</style>\n",
              "<table border=\"1\" class=\"dataframe\">\n",
              "  <thead>\n",
              "    <tr style=\"text-align: right;\">\n",
              "      <th></th>\n",
              "      <th>esc_weight</th>\n",
              "      <th>esf_weight</th>\n",
              "      <th>ecc_weight</th>\n",
              "      <th>bef_weight</th>\n",
              "      <th>psc_weight</th>\n",
              "      <th>pef_weight</th>\n",
              "      <th>last_week_weight</th>\n",
              "      <th>call_sell_trigger_pct</th>\n",
              "      <th>mean_returns</th>\n",
              "      <th>calmar</th>\n",
              "      <th>truncated_calmar</th>\n",
              "      <th>sharpe</th>\n",
              "    </tr>\n",
              "  </thead>\n",
              "  <tbody>\n",
              "    <tr>\n",
              "      <th>52</th>\n",
              "      <td>0.871542</td>\n",
              "      <td>-1.000000</td>\n",
              "      <td>0.291499</td>\n",
              "      <td>1.00000</td>\n",
              "      <td>0.030287</td>\n",
              "      <td>-0.012055</td>\n",
              "      <td>0.000000</td>\n",
              "      <td>6.802868</td>\n",
              "      <td>0.268730</td>\n",
              "      <td>10.647799</td>\n",
              "      <td>7.550943</td>\n",
              "      <td>4.167964</td>\n",
              "    </tr>\n",
              "    <tr>\n",
              "      <th>7</th>\n",
              "      <td>0.163701</td>\n",
              "      <td>-0.171263</td>\n",
              "      <td>-0.050605</td>\n",
              "      <td>0.24702</td>\n",
              "      <td>-0.323985</td>\n",
              "      <td>0.349505</td>\n",
              "      <td>0.317202</td>\n",
              "      <td>6.226764</td>\n",
              "      <td>0.308254</td>\n",
              "      <td>9.808081</td>\n",
              "      <td>7.331313</td>\n",
              "      <td>4.596313</td>\n",
              "    </tr>\n",
              "    <tr>\n",
              "      <th>68</th>\n",
              "      <td>1.000000</td>\n",
              "      <td>-1.000000</td>\n",
              "      <td>1.000000</td>\n",
              "      <td>1.00000</td>\n",
              "      <td>-0.717141</td>\n",
              "      <td>-0.277706</td>\n",
              "      <td>0.000000</td>\n",
              "      <td>8.000000</td>\n",
              "      <td>0.281111</td>\n",
              "      <td>8.855000</td>\n",
              "      <td>6.205000</td>\n",
              "      <td>4.271734</td>\n",
              "    </tr>\n",
              "    <tr>\n",
              "      <th>94</th>\n",
              "      <td>0.845694</td>\n",
              "      <td>-1.000000</td>\n",
              "      <td>0.043767</td>\n",
              "      <td>1.00000</td>\n",
              "      <td>0.083884</td>\n",
              "      <td>0.532541</td>\n",
              "      <td>0.000000</td>\n",
              "      <td>3.990180</td>\n",
              "      <td>0.261429</td>\n",
              "      <td>10.358491</td>\n",
              "      <td>6.169811</td>\n",
              "      <td>4.012139</td>\n",
              "    </tr>\n",
              "    <tr>\n",
              "      <th>86</th>\n",
              "      <td>1.000000</td>\n",
              "      <td>-1.000000</td>\n",
              "      <td>1.000000</td>\n",
              "      <td>1.00000</td>\n",
              "      <td>-0.584604</td>\n",
              "      <td>0.068016</td>\n",
              "      <td>0.000000</td>\n",
              "      <td>8.000000</td>\n",
              "      <td>0.277778</td>\n",
              "      <td>8.750000</td>\n",
              "      <td>6.100000</td>\n",
              "      <td>4.205778</td>\n",
              "    </tr>\n",
              "  </tbody>\n",
              "</table>\n",
              "</div>"
            ],
            "text/plain": [
              "    esc_weight  esf_weight  ecc_weight  ...     calmar  truncated_calmar    sharpe\n",
              "52    0.871542   -1.000000    0.291499  ...  10.647799          7.550943  4.167964\n",
              "7     0.163701   -0.171263   -0.050605  ...   9.808081          7.331313  4.596313\n",
              "68    1.000000   -1.000000    1.000000  ...   8.855000          6.205000  4.271734\n",
              "94    0.845694   -1.000000    0.043767  ...  10.358491          6.169811  4.012139\n",
              "86    1.000000   -1.000000    1.000000  ...   8.750000          6.100000  4.205778\n",
              "\n",
              "[5 rows x 12 columns]"
            ]
          },
          "metadata": {
            "tags": []
          }
        },
        {
          "output_type": "display_data",
          "data": {
            "text/html": [
              "<hr>"
            ],
            "text/plain": [
              "<IPython.core.display.HTML object>"
            ]
          },
          "metadata": {
            "tags": []
          }
        },
        {
          "output_type": "display_data",
          "data": {
            "text/html": [
              "<h2>Returns Deep Dive</h2>"
            ],
            "text/plain": [
              "<IPython.core.display.HTML object>"
            ]
          },
          "metadata": {
            "tags": []
          }
        },
        {
          "output_type": "display_data",
          "data": {
            "text/html": [
              "<div>\n",
              "<style scoped>\n",
              "    .dataframe tbody tr th:only-of-type {\n",
              "        vertical-align: middle;\n",
              "    }\n",
              "\n",
              "    .dataframe tbody tr th {\n",
              "        vertical-align: top;\n",
              "    }\n",
              "\n",
              "    .dataframe thead th {\n",
              "        text-align: right;\n",
              "    }\n",
              "</style>\n",
              "<table border=\"1\" class=\"dataframe\">\n",
              "  <thead>\n",
              "    <tr style=\"text-align: right;\">\n",
              "      <th></th>\n",
              "      <th>annualized_mean</th>\n",
              "      <th>calmar</th>\n",
              "      <th>sharpe</th>\n",
              "      <th>annualized_mean_vs_non-optimized</th>\n",
              "      <th>calmar_vs_non-optimized</th>\n",
              "      <th>sharpe_vs_non-optimized</th>\n",
              "    </tr>\n",
              "    <tr>\n",
              "      <th>underlying_symbol</th>\n",
              "      <th></th>\n",
              "      <th></th>\n",
              "      <th></th>\n",
              "      <th></th>\n",
              "      <th></th>\n",
              "      <th></th>\n",
              "    </tr>\n",
              "  </thead>\n",
              "  <tbody>\n",
              "    <tr>\n",
              "      <th>SPY</th>\n",
              "      <td>1,424%</td>\n",
              "      <td>1,065%</td>\n",
              "      <td>4.2</td>\n",
              "      <td>-7%</td>\n",
              "      <td>-5%</td>\n",
              "      <td>-0.1</td>\n",
              "    </tr>\n",
              "  </tbody>\n",
              "</table>\n",
              "</div>"
            ],
            "text/plain": [
              "                  annualized_mean  ... sharpe_vs_non-optimized\n",
              "underlying_symbol                  ...                        \n",
              "SPY                        1,424%  ...                    -0.1\n",
              "\n",
              "[1 rows x 6 columns]"
            ]
          },
          "metadata": {
            "tags": []
          }
        },
        {
          "output_type": "display_data",
          "data": {
            "image/png": "[encoded data removed]",
            "text/plain": [
              "<IPython.core.display.Image object>"
            ]
          },
          "metadata": {
            "tags": []
          }
        },
        {
          "output_type": "display_data",
          "data": {
            "text/html": [
              "<hr>"
            ],
            "text/plain": [
              "<IPython.core.display.HTML object>"
            ]
          },
          "metadata": {
            "tags": []
          }
        },
        {
          "output_type": "execute_result",
          "data": {
            "text/html": [
              "<div>\n",
              "<style scoped>\n",
              "    .dataframe tbody tr th:only-of-type {\n",
              "        vertical-align: middle;\n",
              "    }\n",
              "\n",
              "    .dataframe tbody tr th {\n",
              "        vertical-align: top;\n",
              "    }\n",
              "\n",
              "    .dataframe thead th {\n",
              "        text-align: right;\n",
              "    }\n",
              "</style>\n",
              "<table border=\"1\" class=\"dataframe\">\n",
              "  <thead>\n",
              "    <tr style=\"text-align: right;\">\n",
              "      <th></th>\n",
              "      <th>annualized_mean</th>\n",
              "      <th>calmar</th>\n",
              "      <th>sharpe</th>\n",
              "    </tr>\n",
              "    <tr>\n",
              "      <th>underlying_symbol</th>\n",
              "      <th></th>\n",
              "      <th></th>\n",
              "      <th></th>\n",
              "    </tr>\n",
              "  </thead>\n",
              "  <tbody>\n",
              "    <tr>\n",
              "      <th>SPY</th>\n",
              "      <td>14.238364</td>\n",
              "      <td>10.647799</td>\n",
              "      <td>4.167964</td>\n",
              "    </tr>\n",
              "  </tbody>\n",
              "</table>\n",
              "</div>"
            ],
            "text/plain": [
              "                   annualized_mean     calmar    sharpe\n",
              "underlying_symbol                                      \n",
              "SPY                      14.238364  10.647799  4.167964"
            ]
          },
          "metadata": {
            "tags": []
          },
          "execution_count": 109
        },
        {
          "output_type": "display_data",
          "data": {
            "text/plain": [
              "<Figure size 432x288 with 0 Axes>"
            ]
          },
          "metadata": {
            "tags": []
          }
        }
      ]
    },
    {
      "cell_type": "code",
      "metadata": {
        "id": "9xQPvLMto2xD"
      },
      "source": [
        "import threading\n",
        "\n",
        "symbol = 'SPY'\n",
        "\n",
        "min_indicator_weight = -10\n",
        "max_indicator_weight = 10\n",
        "space = [\n",
        "  skopt.space.Real(-1, 1, name='esc_weight'),\n",
        "  skopt.space.Real(-1, 1, name='esf_weight'),\n",
        "  skopt.space.Real(-1, 1, name='ecc_weight'),\n",
        "  skopt.space.Real(-1, 1, name='bef_weight'),\n",
        "  skopt.space.Real(-1, 1, name='psc_weight'),\n",
        "  skopt.space.Real(-1, 1, name='pef_weight'),\n",
        "  skopt.space.Categorical(\n",
        "      option_data.index.get_level_values('strike_pct').unique(),\n",
        "      name='strike_pct'),\n",
        "  skopt.space.Categorical(\n",
        "      option_data.index.get_level_values('week_exp').unique(),\n",
        "      name='week_exp'),\n",
        "  # skopt.space.Real(0, 1, name='ratio_of_balance_to_trade'),\n",
        "  skopt.space.Real(0, 1, name='last_week_weight'),\n",
        "  # skopt.space.Categorical(\n",
        "  #   [False, True],\n",
        "  #   name='buy_puts_when_indicator_is_negative'),\n",
        "  skopt.space.Real(0, 8, name='call_sell_trigger_pct'),\n",
        "  # skopt.space.Real(\n",
        "  #     0.1, 6,\n",
        "  #     name='put_sell_trigger_pct')\n",
        "]\n",
        "\n",
        "\n",
        "\n",
        "\n",
        "call_times.clear()\n",
        "@skopt.utils.use_named_args(space)\n",
        "def objective(**kwargs):\n",
        "  return wrapped_objective(get_sharpe, **kwargs)\n",
        "  # last_args.update(kwargs)\n",
        "  # ret = get_returns(symbol=symbol, **kwargs)\n",
        "  # if ret.empty:\n",
        "  #   return 0\n",
        "  # ret = -get_sharpe(ret)\n",
        "  # returns.append(ret)\n",
        "  # return ret\n",
        "\n",
        "@skopt.utils.use_named_args(space)\n",
        "def calmar_objective(**kwargs):\n",
        "  return wrapped_objective(get_calmar, **kwargs)\n",
        "\n",
        "@skopt.utils.use_named_args(space)\n",
        "def calmar_sum_returns_objective(**kwargs):\n",
        "  return wrapped_objective(\n",
        "      get_calmar_sum_returns,\n",
        "      quarterly_median_of_returns=True, **kwargs)\n",
        "  \n",
        "def custom_returns(returns: pd.Series) -> np.float64:\n",
        "  positive_returns = returns.loc[returns > 0]\n",
        "  if positive_returns.empty:\n",
        "    return returns.mean()\n",
        "  returns = returns.copy()\n",
        "  # Prevent the largest returns from dominating the results\n",
        "  returns.loc[returns > positive_returns.quantile(.6)] = (\n",
        "      positive_returns.quantile(.6))\n",
        "  return get_calmar_sum_returns(returns)\n",
        "\n",
        "@skopt.utils.use_named_args(space)\n",
        "def custom_objective(**kwargs):\n",
        "  return wrapped_objective(custom_returns, **kwargs)\n",
        "\n",
        "def gp_minimize():\n",
        "  return skopt.gp_minimize(\n",
        "    custom_objective, space, n_calls=800, random_state=0, n_jobs=-1)\n",
        "\n",
        "thread = threading.Thread(target=gp_minimize)\n",
        "thread.start()\n",
        "\n",
        "# res_gp = skopt.gp_minimize(\n",
        "#     custom_objective, space, n_calls=500, random_state=0, n_jobs=-1)\n",
        "# pd.Series(res_gp.func_vals).mul(-1).plot(\n",
        "#     title=(f'shappe vs iteration: symbol={symbol} '\n",
        "#            f'final opt={-res_gp.fun:.02f}'))"
      ],
      "execution_count": null,
      "outputs": []
    },
    {
      "cell_type": "code",
      "metadata": {
        "id": "RRa7Y8vkIiWW"
      },
      "source": [
        "pd.Series(res_gp.func_vals).mul(-1).plot(\n",
        "    title=(f'objective vs iteration: symbol={symbol} '\n",
        "           f'final sharpe={-res_gp.fun:.02f}'))"
      ],
      "execution_count": null,
      "outputs": []
    },
    {
      "cell_type": "code",
      "metadata": {
        "colab": {
          "base_uri": "https://localhost:8080/",
          "height": 298
        },
        "id": "eLeeCBu5sLKz",
        "outputId": "e418202e-78f8-4a8d-ba6e-032db1f8f83e"
      },
      "source": [
        "pd.Series(returns).mul(-1).plot(title='optimization')"
      ],
      "execution_count": null,
      "outputs": [
        {
          "output_type": "execute_result",
          "data": {
            "text/plain": [
              "<AxesSubplot:title={'center':'optimization'}>"
            ]
          },
          "metadata": {
            "tags": []
          },
          "execution_count": 118
        },
        {
          "output_type": "display_data",
          "data": {
            "text/plain": [
              "<Figure size 432x288 with 1 Axes>"
            ],
            "image/png": "[encoded data removed]"
          },
          "metadata": {
            "tags": [],
            "needs_background": "light"
          }
        }
      ]
    },
    {
      "cell_type": "code",
      "metadata": {
        "colab": {
          "base_uri": "https://localhost:8080/",
          "height": 514
        },
        "id": "b7L9Zu7u0WCR",
        "outputId": "ceb1bc40-df97-4f2f-fe04-9fdd7d9a1b74"
      },
      "source": [
        "results = pd.DataFrame(\n",
        "    call_args,\n",
        "    # columns=[f.name for f in space],\n",
        ").join(\n",
        "    pd.Series(\n",
        "        get_returns(\n",
        "            symbol=symbol,\n",
        "            buy_puts_when_indicator_is_negative=False,\n",
        "            put_sell_trigger_pct=0,\n",
        "            **ca).mean() * 52 for ca in call_args).rename('annual_return')\n",
        ").join(\n",
        "    pd.Series(returns).mul(-1).rename('objective_to_maximize')).sort_values(\n",
        "        'objective_to_maximize', ascending=False).head(15)\n",
        "results"
      ],
      "execution_count": null,
      "outputs": [
        {
          "output_type": "execute_result",
          "data": {
            "text/plain": [
              "     esc_weight  esf_weight  ecc_weight  bef_weight  psc_weight  pef_weight  \\\n",
              "488    0.991142    0.510416    0.017200   -0.065350   -0.621766    0.898705   \n",
              "553    1.000000    0.235436    0.108695    0.082696   -0.390361    1.000000   \n",
              "506    1.000000    0.504838   -0.010086   -0.071524   -0.610828    0.852833   \n",
              "557    0.869502    0.236155   -0.010226    0.114403   -0.375777    1.000000   \n",
              "460    1.000000    0.522000   -0.057030   -0.068334   -0.612650    0.864306   \n",
              "516    1.000000    0.484735    0.043630    0.159699   -0.629049    0.934357   \n",
              "576    0.751111    0.214463    0.019535    0.320443   -0.347141    1.000000   \n",
              "501    1.000000    0.497747    0.042512    0.060118   -0.601337    0.863526   \n",
              "561    1.000000    0.232602    0.153474    0.094052   -0.447662    1.000000   \n",
              "336    0.852011    0.515018   -0.127446   -0.179340   -0.676702    0.907032   \n",
              "551    1.000000    0.191207    0.066360    0.073336   -0.335315    1.000000   \n",
              "560    0.610125    0.464842    0.153587    0.322434   -0.663767    0.962566   \n",
              "540    0.757486    0.473954    0.080740   -0.146115   -0.664766    0.947317   \n",
              "489    0.996823    0.519383   -0.044229   -0.012869   -0.577921    0.866609   \n",
              "621    1.000000    0.354766    0.027038    0.072166   -1.000000    1.000000   \n",
              "\n",
              "     strike_pct  week_exp  last_week_weight  call_sell_trigger_pct  \\\n",
              "488           0         1          0.027699               0.716604   \n",
              "553           0         1          0.063250               0.668145   \n",
              "506           0         1          0.009009               0.699669   \n",
              "557           0         1          0.069134               0.684223   \n",
              "460           0         1          0.044689               0.679798   \n",
              "516           0         1          0.045685               0.678147   \n",
              "576           0         1          0.070646               0.705808   \n",
              "501           0         1          0.031440               0.673712   \n",
              "561           0         1          0.077074               0.690519   \n",
              "336           0         1          0.025380               0.689153   \n",
              "551           0         1          0.064170               0.630892   \n",
              "560           0         1          0.150852               0.712284   \n",
              "540           0         1          0.087001               0.712181   \n",
              "489           0         1          0.016604               0.682212   \n",
              "621           0         1          0.000000               0.708135   \n",
              "\n",
              "     annual_return  objective_to_maximize  \n",
              "488      11.766111              14.255096  \n",
              "553      11.317650              13.711768  \n",
              "506      11.111271              13.461732  \n",
              "557      11.097936              13.445577  \n",
              "460      11.006622              13.334946  \n",
              "516      10.972565              13.293685  \n",
              "576      10.960765              13.279389  \n",
              "501      10.881031              13.182788  \n",
              "561      10.657895              12.912450  \n",
              "336      10.630842              12.879674  \n",
              "551      10.518189              12.743190  \n",
              "560      10.501135              12.722529  \n",
              "540      10.499182              12.720163  \n",
              "489      10.493334              12.713078  \n",
              "621      10.422368              12.627099  "
            ],
            "text/html": [
              "<div>\n",
              "<style scoped>\n",
              "    .dataframe tbody tr th:only-of-type {\n",
              "        vertical-align: middle;\n",
              "    }\n",
              "\n",
              "    .dataframe tbody tr th {\n",
              "        vertical-align: top;\n",
              "    }\n",
              "\n",
              "    .dataframe thead th {\n",
              "        text-align: right;\n",
              "    }\n",
              "</style>\n",
              "<table border=\"1\" class=\"dataframe\">\n",
              "  <thead>\n",
              "    <tr style=\"text-align: right;\">\n",
              "      <th></th>\n",
              "      <th>esc_weight</th>\n",
              "      <th>esf_weight</th>\n",
              "      <th>ecc_weight</th>\n",
              "      <th>bef_weight</th>\n",
              "      <th>psc_weight</th>\n",
              "      <th>pef_weight</th>\n",
              "      <th>strike_pct</th>\n",
              "      <th>week_exp</th>\n",
              "      <th>last_week_weight</th>\n",
              "      <th>call_sell_trigger_pct</th>\n",
              "      <th>annual_return</th>\n",
              "      <th>objective_to_maximize</th>\n",
              "    </tr>\n",
              "  </thead>\n",
              "  <tbody>\n",
              "    <tr>\n",
              "      <th>488</th>\n",
              "      <td>0.991142</td>\n",
              "      <td>0.510416</td>\n",
              "      <td>0.017200</td>\n",
              "      <td>-0.065350</td>\n",
              "      <td>-0.621766</td>\n",
              "      <td>0.898705</td>\n",
              "      <td>0</td>\n",
              "      <td>1</td>\n",
              "      <td>0.027699</td>\n",
              "      <td>0.716604</td>\n",
              "      <td>11.766111</td>\n",
              "      <td>14.255096</td>\n",
              "    </tr>\n",
              "    <tr>\n",
              "      <th>553</th>\n",
              "      <td>1.000000</td>\n",
              "      <td>0.235436</td>\n",
              "      <td>0.108695</td>\n",
              "      <td>0.082696</td>\n",
              "      <td>-0.390361</td>\n",
              "      <td>1.000000</td>\n",
              "      <td>0</td>\n",
              "      <td>1</td>\n",
              "      <td>0.063250</td>\n",
              "      <td>0.668145</td>\n",
              "      <td>11.317650</td>\n",
              "      <td>13.711768</td>\n",
              "    </tr>\n",
              "    <tr>\n",
              "      <th>506</th>\n",
              "      <td>1.000000</td>\n",
              "      <td>0.504838</td>\n",
              "      <td>-0.010086</td>\n",
              "      <td>-0.071524</td>\n",
              "      <td>-0.610828</td>\n",
              "      <td>0.852833</td>\n",
              "      <td>0</td>\n",
              "      <td>1</td>\n",
              "      <td>0.009009</td>\n",
              "      <td>0.699669</td>\n",
              "      <td>11.111271</td>\n",
              "      <td>13.461732</td>\n",
              "    </tr>\n",
              "    <tr>\n",
              "      <th>557</th>\n",
              "      <td>0.869502</td>\n",
              "      <td>0.236155</td>\n",
              "      <td>-0.010226</td>\n",
              "      <td>0.114403</td>\n",
              "      <td>-0.375777</td>\n",
              "      <td>1.000000</td>\n",
              "      <td>0</td>\n",
              "      <td>1</td>\n",
              "      <td>0.069134</td>\n",
              "      <td>0.684223</td>\n",
              "      <td>11.097936</td>\n",
              "      <td>13.445577</td>\n",
              "    </tr>\n",
              "    <tr>\n",
              "      <th>460</th>\n",
              "      <td>1.000000</td>\n",
              "      <td>0.522000</td>\n",
              "      <td>-0.057030</td>\n",
              "      <td>-0.068334</td>\n",
              "      <td>-0.612650</td>\n",
              "      <td>0.864306</td>\n",
              "      <td>0</td>\n",
              "      <td>1</td>\n",
              "      <td>0.044689</td>\n",
              "      <td>0.679798</td>\n",
              "      <td>11.006622</td>\n",
              "      <td>13.334946</td>\n",
              "    </tr>\n",
              "    <tr>\n",
              "      <th>516</th>\n",
              "      <td>1.000000</td>\n",
              "      <td>0.484735</td>\n",
              "      <td>0.043630</td>\n",
              "      <td>0.159699</td>\n",
              "      <td>-0.629049</td>\n",
              "      <td>0.934357</td>\n",
              "      <td>0</td>\n",
              "      <td>1</td>\n",
              "      <td>0.045685</td>\n",
              "      <td>0.678147</td>\n",
              "      <td>10.972565</td>\n",
              "      <td>13.293685</td>\n",
              "    </tr>\n",
              "    <tr>\n",
              "      <th>576</th>\n",
              "      <td>0.751111</td>\n",
              "      <td>0.214463</td>\n",
              "      <td>0.019535</td>\n",
              "      <td>0.320443</td>\n",
              "      <td>-0.347141</td>\n",
              "      <td>1.000000</td>\n",
              "      <td>0</td>\n",
              "      <td>1</td>\n",
              "      <td>0.070646</td>\n",
              "      <td>0.705808</td>\n",
              "      <td>10.960765</td>\n",
              "      <td>13.279389</td>\n",
              "    </tr>\n",
              "    <tr>\n",
              "      <th>501</th>\n",
              "      <td>1.000000</td>\n",
              "      <td>0.497747</td>\n",
              "      <td>0.042512</td>\n",
              "      <td>0.060118</td>\n",
              "      <td>-0.601337</td>\n",
              "      <td>0.863526</td>\n",
              "      <td>0</td>\n",
              "      <td>1</td>\n",
              "      <td>0.031440</td>\n",
              "      <td>0.673712</td>\n",
              "      <td>10.881031</td>\n",
              "      <td>13.182788</td>\n",
              "    </tr>\n",
              "    <tr>\n",
              "      <th>561</th>\n",
              "      <td>1.000000</td>\n",
              "      <td>0.232602</td>\n",
              "      <td>0.153474</td>\n",
              "      <td>0.094052</td>\n",
              "      <td>-0.447662</td>\n",
              "      <td>1.000000</td>\n",
              "      <td>0</td>\n",
              "      <td>1</td>\n",
              "      <td>0.077074</td>\n",
              "      <td>0.690519</td>\n",
              "      <td>10.657895</td>\n",
              "      <td>12.912450</td>\n",
              "    </tr>\n",
              "    <tr>\n",
              "      <th>336</th>\n",
              "      <td>0.852011</td>\n",
              "      <td>0.515018</td>\n",
              "      <td>-0.127446</td>\n",
              "      <td>-0.179340</td>\n",
              "      <td>-0.676702</td>\n",
              "      <td>0.907032</td>\n",
              "      <td>0</td>\n",
              "      <td>1</td>\n",
              "      <td>0.025380</td>\n",
              "      <td>0.689153</td>\n",
              "      <td>10.630842</td>\n",
              "      <td>12.879674</td>\n",
              "    </tr>\n",
              "    <tr>\n",
              "      <th>551</th>\n",
              "      <td>1.000000</td>\n",
              "      <td>0.191207</td>\n",
              "      <td>0.066360</td>\n",
              "      <td>0.073336</td>\n",
              "      <td>-0.335315</td>\n",
              "      <td>1.000000</td>\n",
              "      <td>0</td>\n",
              "      <td>1</td>\n",
              "      <td>0.064170</td>\n",
              "      <td>0.630892</td>\n",
              "      <td>10.518189</td>\n",
              "      <td>12.743190</td>\n",
              "    </tr>\n",
              "    <tr>\n",
              "      <th>560</th>\n",
              "      <td>0.610125</td>\n",
              "      <td>0.464842</td>\n",
              "      <td>0.153587</td>\n",
              "      <td>0.322434</td>\n",
              "      <td>-0.663767</td>\n",
              "      <td>0.962566</td>\n",
              "      <td>0</td>\n",
              "      <td>1</td>\n",
              "      <td>0.150852</td>\n",
              "      <td>0.712284</td>\n",
              "      <td>10.501135</td>\n",
              "      <td>12.722529</td>\n",
              "    </tr>\n",
              "    <tr>\n",
              "      <th>540</th>\n",
              "      <td>0.757486</td>\n",
              "      <td>0.473954</td>\n",
              "      <td>0.080740</td>\n",
              "      <td>-0.146115</td>\n",
              "      <td>-0.664766</td>\n",
              "      <td>0.947317</td>\n",
              "      <td>0</td>\n",
              "      <td>1</td>\n",
              "      <td>0.087001</td>\n",
              "      <td>0.712181</td>\n",
              "      <td>10.499182</td>\n",
              "      <td>12.720163</td>\n",
              "    </tr>\n",
              "    <tr>\n",
              "      <th>489</th>\n",
              "      <td>0.996823</td>\n",
              "      <td>0.519383</td>\n",
              "      <td>-0.044229</td>\n",
              "      <td>-0.012869</td>\n",
              "      <td>-0.577921</td>\n",
              "      <td>0.866609</td>\n",
              "      <td>0</td>\n",
              "      <td>1</td>\n",
              "      <td>0.016604</td>\n",
              "      <td>0.682212</td>\n",
              "      <td>10.493334</td>\n",
              "      <td>12.713078</td>\n",
              "    </tr>\n",
              "    <tr>\n",
              "      <th>621</th>\n",
              "      <td>1.000000</td>\n",
              "      <td>0.354766</td>\n",
              "      <td>0.027038</td>\n",
              "      <td>0.072166</td>\n",
              "      <td>-1.000000</td>\n",
              "      <td>1.000000</td>\n",
              "      <td>0</td>\n",
              "      <td>1</td>\n",
              "      <td>0.000000</td>\n",
              "      <td>0.708135</td>\n",
              "      <td>10.422368</td>\n",
              "      <td>12.627099</td>\n",
              "    </tr>\n",
              "  </tbody>\n",
              "</table>\n",
              "</div>"
            ]
          },
          "metadata": {
            "tags": []
          },
          "execution_count": 120
        }
      ]
    },
    {
      "cell_type": "code",
      "metadata": {
        "colab": {
          "base_uri": "https://localhost:8080/",
          "height": 361
        },
        "id": "mjp0QXzjsUeW",
        "outputId": "88e6be4f-0c73-4430-d705-28d875651e05"
      },
      "source": [
        "assert len(returns) == len(call_args)\n",
        "results = pd.Series(dict(zip(returns, call_args))).sort_index()\n",
        "\n",
        "print(f'num returns: {len(returns)}')\n",
        "\n",
        "r = get_returns(\n",
        "    symbol=symbol,\n",
        "    buy_puts_when_indicator_is_negative=False,\n",
        "    put_sell_trigger_pct=0,\n",
        "    **results.iloc[0]).sort_index()#.loc[pd.Timestamp('2020-09-01'):]\n",
        "(\n",
        "  r\n",
        "  .droplevel('week_exp')\n",
        "  .droplevel('strike_pct')\n",
        "  .cumsum()\n",
        "  .unstack('underlying_symbol')\n",
        ").plot(title=f'annual return = {r.mean() * 52:0.1%}')\n",
        "(r == 0).value_counts()"
      ],
      "execution_count": null,
      "outputs": [
        {
          "output_type": "stream",
          "text": [
            "num returns: 784\n"
          ],
          "name": "stdout"
        },
        {
          "output_type": "execute_result",
          "data": {
            "text/plain": [
              "False    35\n",
              "True     28\n",
              "dtype: int64"
            ]
          },
          "metadata": {
            "tags": []
          },
          "execution_count": 119
        },
        {
          "output_type": "display_data",
          "data": {
            "text/plain": [
              "<Figure size 432x288 with 1 Axes>"
            ],
            "image/png": "[encoded data removed]"
          },
          "metadata": {
            "tags": [],
            "needs_background": "light"
          }
        }
      ]
    },
    {
      "cell_type": "code",
      "metadata": {
        "colab": {
          "base_uri": "https://localhost:8080/"
        },
        "id": "WICkgOLOjV-M",
        "outputId": "93a10960-36c5-46ef-e84e-fb0bb1cf61ef"
      },
      "source": [
        "pd.Series(\n",
        "    get_returns(\n",
        "        symbol=symbol,\n",
        "        buy_puts_when_indicator_is_negative=False,\n",
        "        put_sell_trigger_pct=0,\n",
        "        **i).mean() * 52\n",
        "    for i in call_args[-100:]).mean()"
      ],
      "execution_count": null,
      "outputs": [
        {
          "output_type": "execute_result",
          "data": {
            "text/plain": [
              "8.831530212421997"
            ]
          },
          "metadata": {
            "tags": []
          },
          "execution_count": 121
        }
      ]
    }
  ]
}