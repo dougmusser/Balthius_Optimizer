{
  "nbformat": 4,
  "nbformat_minor": 0,
  "metadata": {
    "colab": {
      "name": "Balthius Backtest.ipynb",
      "provenance": [],
      "collapsed_sections": [],
      "authorship_tag": "ABX9TyMQ6E8PTCK8F2PlGSeuuqbb",
      "include_colab_link": true
    },
    "kernelspec": {
      "name": "python3",
      "display_name": "Python 3"
    },
    "language_info": {
      "name": "python"
    }
  },
  "cells": [
    {
      "cell_type": "markdown",
      "metadata": {
        "id": "view-in-github",
        "colab_type": "text"
      },
      "source": [
        "<a href=\"https://colab.research.google.com/github/dougmusser/Balthius_Optimizer/blob/main/Balthius_Backtest.ipynb\" target=\"_parent\"><img src=\"https://colab.research.google.com/assets/colab-badge.svg\" alt=\"Open In Colab\"/></a>"
      ]
    },
    {
      "cell_type": "markdown",
      "metadata": {
        "id": "AGMlnO7bqlD8"
      },
      "source": [
        "<h1>Cindicator backtest using Balthius historical data</h1>\n",
        "\n",
        "Credit to okadoke@ for making historical backtest data readily available.\n",
        "\n",
        "<h2>Summary</h2>\n",
        "\n",
        "<ul>\n",
        "  <li>Buying calls when the average Cindicator indicator delta to the prior week is greater than zero providies a trading edge against always buying call options.\n",
        "  <li>Optimizing indicator weights with the Skopt optimizer appears to improve performance, but backtesting the results by limiting the optimized window to Dec-2020 indicates the optimize parameters might not have an advantage.\n",
        "  <li>Buying puts doesn't appear to help risk-adjusted returns. This is probaly due to the upwards bias of the underlying ETFs.\n",
        "</ul>\n",
        "\n",
        "<h2>What this CoLab Measures<h2>\n",
        "\n",
        "<p>This CoLab starts with buying options on SPY and QQQ without any indicators and works thorugh to optimized weighted Cindicator indicator weights.\n",
        "\n",
        "<p>Returns are measured using risk adjusted methos such as sharpe and calmar.\n",
        "\n",
        "This CoLab compares the returns of:\n",
        "<ol>\n",
        "  <li>Always SPY and IWM calls each week. Do not use any Cindicator indicators. This provides a baseline without Cindicator data.\n",
        "  <li>Baseline Inidcator Strategy. Buy calls on weeks when the average Cindicator indicator delta to the prior week is positive. This improves on always buying calls without Cindicator data.\n",
        "  <li>Baseline Inidcator Strategy with Puts. Buy calls on weeks when the average Cindicator indicator delta to the prior week is positive and puts when the indicator delta to the prior week is negative. This doesn't improve returns.\n",
        "  <li>Calls when indicator >0 strike 1% of underlying price. This mirrors the baseline indicator strategy but buys calls at strikes 1% above the underlying price. This doesn't improve returns.\n",
        "  <li>Calls when indicator >0, ATM options, 2-week expiration. This mirrors the baseline indicator strategy but buys calls at expiration weeks two weeks from the current date. It sells after one week. This doesn't improve returns.\n",
        "  <li>The above tests indicate using Cindicator indicator deltas ATM with a strike at the underlying price is the best approach. The next step is to optimize the indicator weights and the weight to apply to the prior week and measure the performance. This appears to improve returns, but it could be overfitting.\n",
        "</ol>\n",
        "\n",
        "<h2>Gotchas</h2>\n",
        "\n",
        "This analysis doesn't include risk management. It assumes fixed trading sizes and returns are reported relative to the fixed trade size. The benefit of this approach is all periods of time have an equal weight. Sizing approaches\n",
        "can skew the effect of some time periods on the final trading balance.\n",
        "\n",
        "<h2>Next Steps</h2>\n",
        "\n",
        "<ul>\n",
        "  <li>Support selling portions of the trading position when the target is hit. This CoLab assumes a 100% sale when the target is reached.\n",
        "  <li>Allow weighted indicator drift to re-optimize over time. This is diffcult due to the potential to overfit.\n",
        "  <li>Include QQQ in the analysis.\n",
        "</ul>\n"
      ]
    },
    {
      "cell_type": "code",
      "metadata": {
        "id": "locOG1dao-aR",
        "cellView": "form"
      },
      "source": [
        "#@title Install External Packages\n",
        "\n",
        "!pip install scikit-optimize"
      ],
      "execution_count": null,
      "outputs": []
    },
    {
      "cell_type": "code",
      "metadata": {
        "id": "kKQNKqCI1Hgy",
        "colab": {
          "base_uri": "https://localhost:8080/"
        },
        "cellView": "form",
        "outputId": "508006e2-8708-458f-8a6d-797ea79ee79e"
      },
      "source": [
        "#@title Imports and utility methods\n",
        "\n",
        "import dataclasses\n",
        "import gzip\n",
        "import io\n",
        "import itertools\n",
        "import matplotlib.pyplot as plt\n",
        "import matplotlib.ticker\n",
        "import numpy as np\n",
        "import os\n",
        "import pandas as pd\n",
        "import pickle\n",
        "import re\n",
        "import requests\n",
        "import skopt\n",
        "import skopt.space\n",
        "import skopt.utils\n",
        "import tqdm\n",
        "import uuid\n",
        "import typing\n",
        "import zipfile\n",
        "from IPython.display import display\n",
        "from IPython.display import HTML\n",
        "from IPython.display import Image\n",
        "\n",
        "def get_sharpe(returns: pd.Series) -> np.float64:\n",
        "  '''Returns the sharpe ratio for a series of returns.'''\n",
        "  return np.sqrt(252) * returns.mean() / returns.std()\n",
        "\n",
        "def get_calmar(returns: pd.Series) -> float:\n",
        "  '''Returns Calmar ratio for a series of returns.\n",
        "\n",
        "  I prefer Calmar since it maximizes the return on invested capital vs the\n",
        "  downside risk. Shape tends to prefer strategies with low returns since they\n",
        "  have less volatility.\n",
        "\n",
        "  This implementation uses the cumulative sum of return instead of the\n",
        "  geometric mean since this back-test enables the balance to go negative. Risk\n",
        "  management and position sizing should be done outside of the optimizer.\n",
        "  '''\n",
        "  assert isinstance(returns.index.get_level_values(0)[0], pd.Timestamp)\n",
        "  returns = returns.sort_index(level=0)\n",
        "  sum_returns = returns.cumsum()\n",
        "  rolling_max = sum_returns.expanding(min_periods=1).max()\n",
        "  rolling_dd = rolling_max - sum_returns\n",
        "  max_rolling_dd = rolling_dd.max()\n",
        "  if max_rolling_dd <= 0:\n",
        "    # Reject strategies that don't have draw downs. They're not realistic.\n",
        "    return 0\n",
        "  return sum_returns.iloc[-1] / max_rolling_dd\n",
        "\n",
        "\n",
        "def get_truncated_calmar(returns: pd.Series,\n",
        "                         threshold: float=0.6) -> np.float64:\n",
        "  '''Returns a Calmar ratio with the positive returns truncated.\n",
        "\n",
        "  This reduces the effect of outliers when optimizing a strategy.\n",
        "  '''\n",
        "  positive_returns = returns.loc[returns > 0]\n",
        "  if positive_returns.empty:\n",
        "    # No positive returns\n",
        "    return get_calmar(returns)\n",
        "  returns = returns.copy()\n",
        "  # Truncate the largest returns.\n",
        "  returns.loc[returns > positive_returns.quantile(threshold)] = (\n",
        "      positive_returns.quantile(threshold))\n",
        "  return get_calmar(returns)\n",
        "\n",
        "def get_annualized_mean(returns: pd.Series) -> np.float64:\n",
        "  '''Get the annualized mean returns.'''\n",
        "  assert isinstance(returns.index.get_level_values(0)[0], pd.Timestamp)\n",
        "  start_date = returns.index.get_level_values(0).min()\n",
        "  end_date = returns.index.get_level_values(0).max()\n",
        "  num_years = ((end_date - start_date).days / 365)\n",
        "  # Annualized mean returns is the sum returns divided by the number\n",
        "  # of years.\n",
        "  return returns.sum() / num_years\n",
        "\n",
        "def skopt_gp_minimize(\n",
        "    space: typing.List[skopt.Space],\n",
        "    score_returns_fn,\n",
        "    n_calls=100,\n",
        "    **get_returns_kwargs):\n",
        "  '''Run skopt.gp_minimize for a given return scoring function.\n",
        "\n",
        "  This is a convenience wrapper for the conventions setup in this CoLab.\n",
        "  '''\n",
        "  \n",
        "  with tqdm.trange(n_calls, desc='running gp_minimize') as t:\n",
        "    @skopt.utils.use_named_args(space)\n",
        "    def wrapped_objective(**kwargs):\n",
        "      get_return_args = {}\n",
        "      get_return_args.update(get_returns_kwargs)\n",
        "      get_return_args.update(kwargs)\n",
        "      returns = get_returns(**get_return_args)\n",
        "      try:\n",
        "        if returns.empty:\n",
        "          return 0\n",
        "        return -score_returns_fn(returns)\n",
        "      finally:\n",
        "        t.update()\n",
        "\n",
        "    return skopt.gp_minimize(\n",
        "        wrapped_objective, space, n_calls=n_calls, random_state=0, n_jobs=-1)"
      ],
      "execution_count": null,
      "outputs": [
        {
          "output_type": "stream",
          "text": [
            "/home/dougmusser/py38/lib/python3.8/site-packages/pandas/compat/__init__.py:97: UserWarning: Could not import the lzma module. Your installed Python is incomplete. Attempting to use lzma compression will result in a RuntimeError.\n",
            "  warnings.warn(msg)\n"
          ],
          "name": "stderr"
        }
      ]
    },
    {
      "cell_type": "code",
      "metadata": {
        "colab": {
          "base_uri": "https://localhost:8080/",
          "height": 196
        },
        "id": "QIDKBQ4P3RWn",
        "cellView": "form",
        "outputId": "b22f4ddb-fe5d-4491-d4da-a23448042d64"
      },
      "source": [
        "#@title Download & Parse Cindicator data. Create a method to get the returns given parameters.\n",
        "\n",
        "# Download Cindicator data\n",
        "# Insert the URL for Balthius_Weekly_Cindicator_Exports_20210307.zip here.\n",
        "weekly_cindicator_export_url = 'INSERT URL FOR Balthius_Weekly_Cindicator_Exports_20210307.zip' #@param\n",
        "if weekly_cindicator_export_url.startswith('INSERT'):\n",
        "  weekly_cindicator_export_url = (\n",
        "      input(\n",
        "          'Input Balthius_Weekly_Cindicator_Exports_20210307.zip URL. '\n",
        "          'E.g.: https://cdn.discordapp.com/attachments/...'))\n",
        "response = requests.get(weekly_cindicator_export_url, stream=True)\n",
        "assert response.status_code == 200\n",
        "zip_bytes = response.raw.read()\n",
        "\n",
        "# Parse Cindicator data\n",
        "option_data = []\n",
        "with zipfile.ZipFile(io.BytesIO(zip_bytes)) as zf:\n",
        "  for idx, f in enumerate(zf.filelist):\n",
        "    match = re.match(\n",
        "        r'Balthius ([A-Z][A-Z][A-Z]+) (\\dpct OTM|ATM) (\\d) Week Exp '\n",
        "        r'(\\d{4}-\\d{2}-\\d{2})\\.csv', f.filename)\n",
        "    if not match:\n",
        "      raise Exception(f'Unexpected filename: {f.filename}')\n",
        "    underlying_symbol, trade_target, week_exp, data_date = match.groups()\n",
        "\n",
        "    # Process trade_target\n",
        "    trade_target_pct_match = re.match(r'(\\d)pct OTM', trade_target)\n",
        "    if trade_target == 'ATM':\n",
        "      strike_pct = 0\n",
        "    elif trade_target_pct_match:\n",
        "      strike_pct = int(trade_target_pct_match.groups()[0])\n",
        "    else:\n",
        "      raise Exception(f'Unexpected trade_target={trade_target}')\n",
        "    # Process week_exp\n",
        "    week_exp = int(week_exp)\n",
        "    # Process data_date\n",
        "    data_date = pd.Timestamp(data_date).normalize()\n",
        "\n",
        "    with zf.open(f) as option_csv_content:\n",
        "      option_data_part = pd.read_csv(\n",
        "          option_csv_content, parse_dates=['Week Starting'],\n",
        "          index_col=['Week Starting'])\n",
        "      # print(option_data_part.columns)\n",
        "    # Reduce option_data_part to the columns of interest - also ensures the\n",
        "    # columns of interest are present in the DataFrame.\n",
        "    # Rename the columns to improve readability.\n",
        "    # Assign the filename identifiers to the DataFrame.\n",
        "    option_data.append(\n",
        "      option_data_part[[\n",
        "        'Open', 'Gap', 'ESC', 'ESF', 'ECC', 'BEF', 'PSC', 'PEF',\n",
        "        'CStrike', 'COC1', 'COH1',\n",
        "        'PStrike', 'POC1', 'POH1',\n",
        "      ]].rename(columns=dict(\n",
        "          Open='underlying_open', Gap='underlying_gap',\n",
        "          CStrike='c_strike', PStrike='put_strike')\n",
        "      ).assign(\n",
        "        underlying_symbol=underlying_symbol\n",
        "      ).assign(\n",
        "        strike_pct=strike_pct\n",
        "      ).assign(\n",
        "        week_exp=week_exp\n",
        "      ).assign(\n",
        "        data_date=data_date\n",
        "      ).set_index(\n",
        "          ['underlying_symbol', 'strike_pct', 'week_exp'], append=True\n",
        "      ))\n",
        "option_data = pd.concat(option_data).sort_index()\n",
        "# Ensure there are no duplicates\n",
        "assert not option_data.index.duplicated().any()\n",
        "display(option_data.head(2))\n",
        "display(f'option_data length: {len(option_data)}')\n",
        "\n",
        "#@title Extract Cindicator indicators from a random slice since the indicators are duplicated within the spreadsheet\n",
        "indicators = option_data.loc[\n",
        "  pd.IndexSlice[:, 'SPY', 0, 1],\n",
        "  ['ESC', 'ESF', 'ECC', 'BEF', 'PSC', 'PEF']\n",
        "].copy()\n",
        "indicators = indicators.set_index(\n",
        "    indicators.index.get_level_values('Week Starting')).sort_index()\n",
        "assert not indicators.index.duplicated().any()\n",
        "# Calculate indicator changes. Use changes of the log of the indicators instead\n",
        "# of percentage changes to minimize outliers. Expect all indicators to be > 1,\n",
        "# otherwise log will have issues. If this ever happens this code will need to\n",
        "# special-case handle zero values.\n",
        "assert (indicators > 0).all().all()\n",
        "indicator_changes = np.log(indicators).sub(np.log(indicators).shift(1)).dropna()\n",
        "indicator_changes.head(2)\n",
        "\n",
        "def get_returns(\n",
        "    symbol, esc_weight, esf_weight, ecc_weight, bef_weight, psc_weight,\n",
        "    pef_weight, strike_pct, week_exp,\n",
        "    # ratio_of_balance_to_trade,\n",
        "    last_week_weight, buy_puts_when_indicator_is_negative,\n",
        "    call_sell_trigger_pct, put_sell_trigger_pct,\n",
        "    backtest_date_cuttoff: typing.Optional[pd.Timestamp] = None):\n",
        "  '''Compute the option returns for a given set of parameters.\n",
        "\n",
        "  This uses the indicator_changes values above.\n",
        "  '''\n",
        "\n",
        "  # Computed the weighted indicator.\n",
        "  permutation_indicator = (\n",
        "    (indicator_changes['ESC'] * esc_weight)\n",
        "    + (indicator_changes['ESF'] * esf_weight)\n",
        "    + (indicator_changes['ECC'] * ecc_weight)\n",
        "    + (indicator_changes['BEF'] * bef_weight)\n",
        "    + (indicator_changes['PSC'] * psc_weight)\n",
        "    + (indicator_changes['PEF'] * pef_weight))\n",
        "  permutation_indicator = (\n",
        "      permutation_indicator +\n",
        "      permutation_indicator.shift(1).mul(last_week_weight)).dropna()\n",
        "  # Join the weighted indicators with the historical option data to enable\n",
        "  # applying the indicator results below. We can't use the indicator values\n",
        "  # in the option_data data frame since it's difficult to apply the\n",
        "  # last_week_weight parameter in that fashion.\n",
        "  option_data_with_indicators = option_data.loc[\n",
        "    pd.IndexSlice[\n",
        "      option_data.index.get_level_values('Week Starting').isin(\n",
        "          permutation_indicator.index),\n",
        "      symbol, strike_pct:strike_pct, week_exp:week_exp]]\n",
        "  option_data_with_indicators = (\n",
        "      option_data_with_indicators.assign(\n",
        "          indicator=permutation_indicator.loc[\n",
        "            option_data_with_indicators.index.get_level_values('Week Starting')\n",
        "          ].values))\n",
        "  if backtest_date_cuttoff is not None:\n",
        "    option_data_with_indicators = option_data_with_indicators.loc[\n",
        "      pd.IndexSlice[:backtest_date_cuttoff, :, :, :], :]\n",
        "\n",
        "  # Start off with assuming zero returns (no trading) for each week.\n",
        "  returns = pd.Series(0, option_data_with_indicators.index)\n",
        "\n",
        "  # Apply the call on close returns where the indicator is positive.\n",
        "  returns.loc[option_data_with_indicators['indicator'] > 0] = (\n",
        "      option_data_with_indicators['COC1'])\n",
        "  # Apply the call sell trigger where the indicator is positive when the option\n",
        "  # high return was at least as high as call_sell_trigger_pct. If the option\n",
        "  # high didn't meet call_sell_trigger_pct then the COC1 value above is used\n",
        "  # for the return.\n",
        "  if call_sell_trigger_pct:\n",
        "    returns.loc[\n",
        "        (option_data_with_indicators['indicator'] > 0)\n",
        "        & (option_data_with_indicators['COH1'] >= call_sell_trigger_pct)\n",
        "    ] = call_sell_trigger_pct\n",
        "  # This back-tests puts depending on buy_puts_when_indicator_is_negative.\n",
        "  if buy_puts_when_indicator_is_negative:\n",
        "    # Apply the put on close returns where the indicator is negative.\n",
        "    returns.loc[option_data_with_indicators['indicator'] < 0] = (\n",
        "        option_data_with_indicators['POC1'])\n",
        "    # Apply the put sell trigger where the indicator is negative when the option\n",
        "    # high return was at least as high as put_sell_trigger_pct. If the option\n",
        "    # high didn't meet put_sell_trigger_pct then POC1 value above is used for\n",
        "    # the return.\n",
        "    if put_sell_trigger_pct:\n",
        "      returns.loc[\n",
        "        (option_data_with_indicators['indicator'] < 0)\n",
        "        & (option_data_with_indicators['POH1'] >= put_sell_trigger_pct)\n",
        "      ] = put_sell_trigger_pct\n",
        "  # Remove strange values.\n",
        "  returns.loc[np.isinf(returns)] = None\n",
        "  return returns"
      ],
      "execution_count": null,
      "outputs": [
        {
          "output_type": "stream",
          "text": [
            "Input Balthius_Weekly_Cindicator_Exports_20210307.zip URL. E.g.: https://cdn.discordapp.com/attachments/...https://cdn.discordapp.com/attachments/786492289236205618/818166051966550046/Balthius_Weekly_Cindicator_Exports_20210307.zip\n"
          ],
          "name": "stdout"
        },
        {
          "output_type": "display_data",
          "data": {
            "text/plain": [
              "                                                     underlying_open  \\\n",
              "Week Starting underlying_symbol strike_pct week_exp                    \n",
              "2019-12-09    IWM               0          1                  162.75   \n",
              "                                           2                  162.75   \n",
              "\n",
              "                                                     underlying_gap  ESC  ESF  \\\n",
              "Week Starting underlying_symbol strike_pct week_exp                             \n",
              "2019-12-09    IWM               0          1                  -0.07   44   47   \n",
              "                                           2                  -0.07   44   47   \n",
              "\n",
              "                                                     ECC  BEF  PSC  PEF  \\\n",
              "Week Starting underlying_symbol strike_pct week_exp                       \n",
              "2019-12-09    IWM               0          1          59   47   48   44   \n",
              "                                           2          59   47   48   44   \n",
              "\n",
              "                                                     c_strike  COC1  COH1  \\\n",
              "Week Starting underlying_symbol strike_pct week_exp                         \n",
              "2019-12-09    IWM               0          1              163 -0.70  1.16   \n",
              "                                           2              163 -0.37  0.74   \n",
              "\n",
              "                                                     put_strike  POC1  POH1  \\\n",
              "Week Starting underlying_symbol strike_pct week_exp                           \n",
              "2019-12-09    IWM               0          1                163 -0.98  0.37   \n",
              "                                           2                163 -0.38  0.26   \n",
              "\n",
              "                                                     data_date  \n",
              "Week Starting underlying_symbol strike_pct week_exp             \n",
              "2019-12-09    IWM               0          1        2021-03-07  \n",
              "                                           2        2021-03-07  "
            ],
            "text/html": [
              "<div>\n",
              "<style scoped>\n",
              "    .dataframe tbody tr th:only-of-type {\n",
              "        vertical-align: middle;\n",
              "    }\n",
              "\n",
              "    .dataframe tbody tr th {\n",
              "        vertical-align: top;\n",
              "    }\n",
              "\n",
              "    .dataframe thead th {\n",
              "        text-align: right;\n",
              "    }\n",
              "</style>\n",
              "<table border=\"1\" class=\"dataframe\">\n",
              "  <thead>\n",
              "    <tr style=\"text-align: right;\">\n",
              "      <th></th>\n",
              "      <th></th>\n",
              "      <th></th>\n",
              "      <th></th>\n",
              "      <th>underlying_open</th>\n",
              "      <th>underlying_gap</th>\n",
              "      <th>ESC</th>\n",
              "      <th>ESF</th>\n",
              "      <th>ECC</th>\n",
              "      <th>BEF</th>\n",
              "      <th>PSC</th>\n",
              "      <th>PEF</th>\n",
              "      <th>c_strike</th>\n",
              "      <th>COC1</th>\n",
              "      <th>COH1</th>\n",
              "      <th>put_strike</th>\n",
              "      <th>POC1</th>\n",
              "      <th>POH1</th>\n",
              "      <th>data_date</th>\n",
              "    </tr>\n",
              "    <tr>\n",
              "      <th>Week Starting</th>\n",
              "      <th>underlying_symbol</th>\n",
              "      <th>strike_pct</th>\n",
              "      <th>week_exp</th>\n",
              "      <th></th>\n",
              "      <th></th>\n",
              "      <th></th>\n",
              "      <th></th>\n",
              "      <th></th>\n",
              "      <th></th>\n",
              "      <th></th>\n",
              "      <th></th>\n",
              "      <th></th>\n",
              "      <th></th>\n",
              "      <th></th>\n",
              "      <th></th>\n",
              "      <th></th>\n",
              "      <th></th>\n",
              "      <th></th>\n",
              "    </tr>\n",
              "  </thead>\n",
              "  <tbody>\n",
              "    <tr>\n",
              "      <th rowspan=\"2\" valign=\"top\">2019-12-09</th>\n",
              "      <th rowspan=\"2\" valign=\"top\">IWM</th>\n",
              "      <th rowspan=\"2\" valign=\"top\">0</th>\n",
              "      <th>1</th>\n",
              "      <td>162.75</td>\n",
              "      <td>-0.07</td>\n",
              "      <td>44</td>\n",
              "      <td>47</td>\n",
              "      <td>59</td>\n",
              "      <td>47</td>\n",
              "      <td>48</td>\n",
              "      <td>44</td>\n",
              "      <td>163</td>\n",
              "      <td>-0.70</td>\n",
              "      <td>1.16</td>\n",
              "      <td>163</td>\n",
              "      <td>-0.98</td>\n",
              "      <td>0.37</td>\n",
              "      <td>2021-03-07</td>\n",
              "    </tr>\n",
              "    <tr>\n",
              "      <th>2</th>\n",
              "      <td>162.75</td>\n",
              "      <td>-0.07</td>\n",
              "      <td>44</td>\n",
              "      <td>47</td>\n",
              "      <td>59</td>\n",
              "      <td>47</td>\n",
              "      <td>48</td>\n",
              "      <td>44</td>\n",
              "      <td>163</td>\n",
              "      <td>-0.37</td>\n",
              "      <td>0.74</td>\n",
              "      <td>163</td>\n",
              "      <td>-0.38</td>\n",
              "      <td>0.26</td>\n",
              "      <td>2021-03-07</td>\n",
              "    </tr>\n",
              "  </tbody>\n",
              "</table>\n",
              "</div>"
            ]
          },
          "metadata": {
            "tags": []
          }
        },
        {
          "output_type": "display_data",
          "data": {
            "text/plain": [
              "'option_data length: 1040'"
            ]
          },
          "metadata": {
            "tags": []
          }
        }
      ]
    },
    {
      "cell_type": "code",
      "metadata": {
        "colab": {
          "base_uri": "https://localhost:8080/",
          "height": 1000
        },
        "id": "vxp5vqD03aR6",
        "cellView": "form",
        "outputId": "7a6a0f6d-4298-4bbd-bb2b-6b1eb1d8c6bc"
      },
      "source": [
        "#@title Compare the results of various strategies to explore how different configurations affect returns. This is a prelude into using a risk-adjusted optimizer to find an ideal trading parameter setting.\n",
        "\n",
        "\n",
        "def get_returns_with_defaults_params(\n",
        "    symbol, esc_weight=1, esf_weight=1, ecc_weight=1, bef_weight=1,\n",
        "    psc_weight=1, pef_weight=1, strike_pct=0, week_exp=1, last_week_weight=0,\n",
        "    buy_puts_when_indicator_is_negative=False, call_sell_trigger_pct=0,\n",
        "    put_sell_trigger_pct=0) -> pd.Series:\n",
        "  return get_returns(\n",
        "      symbol=symbol, esc_weight=esc_weight, esf_weight=esf_weight,\n",
        "      ecc_weight=ecc_weight, bef_weight=bef_weight, psc_weight=psc_weight,\n",
        "      pef_weight=pef_weight, strike_pct=strike_pct, week_exp=week_exp,\n",
        "      last_week_weight=last_week_weight,\n",
        "      buy_puts_when_indicator_is_negative=buy_puts_when_indicator_is_negative,\n",
        "      call_sell_trigger_pct=call_sell_trigger_pct,\n",
        "      put_sell_trigger_pct=put_sell_trigger_pct)\n",
        "\n",
        "\n",
        "def get_benchmarks(returns: pd.Series) -> pd.DataFrame:\n",
        "  return (\n",
        "      returns.groupby(level='underlying_symbol')\n",
        "      .agg(annualized_mean=get_annualized_mean, calmar=get_calmar,\n",
        "           sharpe=get_sharpe))\n",
        "\n",
        "\n",
        "def format_benchmarks(benchmarks: pd.DataFrame) -> pd.DataFrame:\n",
        "  ret = benchmarks.copy()\n",
        "  for col, format in {\n",
        "      'annualized_mean': '{:,.0%}',\n",
        "      'calmar': '{:,.0%}',\n",
        "      'sharpe': '{:,.1f}'}.items():\n",
        "    ret[col] = ret[col].map(format.format)\n",
        "  return ret\n",
        "\n",
        "\n",
        "def disply_trading_results(\n",
        "    title: str, desc: str, symbols=('SPY', 'IWM'),\n",
        "    returns: pd.Series=None, comp_benchmarks: pd.DataFrame=None,\n",
        "    comp_benchmarks_name: str='', end_with_hr: bool=True,\n",
        "    **kwargs):\n",
        "\n",
        "  if returns is None:\n",
        "    # Compute returns if not provided\n",
        "    returns = pd.concat(\n",
        "      get_returns_with_defaults_params(symbol=symbol, **kwargs)\n",
        "      for symbol in symbols)\n",
        "  plt.figure()\n",
        "  ax = (\n",
        "      returns.droplevel(['strike_pct', 'week_exp']).unstack('underlying_symbol')\n",
        "      .cumsum()\n",
        "  ).plot(figsize=(8, 4))\n",
        "  ax.xaxis.set_label_text('')\n",
        "  ax.yaxis.set_label_text('Cumulative returns\\nrelative to trade size')\n",
        "  ax.yaxis.set_major_formatter(matplotlib.ticker.PercentFormatter(1))\n",
        "  imgbuf = io.BytesIO()\n",
        "  plt.savefig(imgbuf)\n",
        "  imgbuf.flush()\n",
        "  plt.close()\n",
        "  benchmarks = get_benchmarks(returns)\n",
        "  benchmarks_for_display = format_benchmarks(benchmarks)\n",
        "  if comp_benchmarks is not None:\n",
        "    comp_benchmarks = benchmarks.sub(comp_benchmarks)\n",
        "    comp_benchmarks_for_display = format_benchmarks(comp_benchmarks)\n",
        "    assert comp_benchmarks_name\n",
        "    benchmarks_for_display = benchmarks_for_display.join(\n",
        "        comp_benchmarks_for_display, rsuffix=f'_vs_{comp_benchmarks_name}')\n",
        "  display(\n",
        "      HTML(f'<h2>{title}</h2>{desc}'),\n",
        "      benchmarks_for_display,\n",
        "      Image(imgbuf.getvalue()))\n",
        "  if end_with_hr:\n",
        "    display(HTML('<hr>'))\n",
        "  return benchmarks\n",
        "\n",
        "no_indicator_benchmarks = disply_trading_results(\n",
        "    title='No indicators, Always buy calls',\n",
        "    desc=('The results of not using any indicators.\\n'\n",
        "          'Cindicator results are compared to these results'),\n",
        "    returns=option_data.loc[pd.IndexSlice[:, :, 0, 1], 'COC1'])\n",
        "call_only_benchmarks = disply_trading_results(\n",
        "    title='Baseline Indicator Strategy',\n",
        "    desc=(\n",
        "        'Buy 1 Week ATM calls when indicator mean is postitive<p>'\n",
        "        'The indicators demonstrate significant improvements to returns.<p>'\n",
        "        'The returns are higher as measured in mean returns and risk '\n",
        "        'adjusted Calmar and shapre returns.'\n",
        "        '<h3>Analysis</h3>'\n",
        "        'Use the indicators as a signal for trading vs always buying calls.'),\n",
        "    comp_benchmarks=no_indicator_benchmarks,\n",
        "    comp_benchmarks_name='no_indicator')\n",
        "disply_trading_results(\n",
        "    title='Baseline Indicator Strategy with Puts',\n",
        "    desc=(\n",
        "        'Buy 1 Week ATM calls when indicator mean is postitive<br>'\n",
        "        'and 1 week ATM puts when indicator mean is negative<p/>'\n",
        "        'Adding puts improves IWM reutrns but reduces SPY returns.<br>'\n",
        "        'This comes at the cost of <b>increased risk</b> as measured by Calmar '\n",
        "        'sharpe ratios.<br>'\n",
        "        'Traing puts means reducing position sizes to account for risk '\n",
        "        'increase'\n",
        "        '<h3>Analysis</h3>'\n",
        "        '<b>Do not trade puts</b>, they always increase risk and sometimes '\n",
        "        'increase returns'),\n",
        "    buy_puts_when_indicator_is_negative=True,\n",
        "    comp_benchmarks=call_only_benchmarks,\n",
        "    comp_benchmarks_name='call_only')\n",
        "disply_trading_results(\n",
        "    title='Calls when indicator >0 strike 1% of underlying price',\n",
        "    desc=(\n",
        "        'This approach increases overall all returns but '\n",
        "        '<b>decreases</b> returns when accounting for risk as measured<br>'\n",
        "        'by Calmar and sharpe. It would require reduced position sizes to '\n",
        "        'trade.'\n",
        "        '<h3>Analysis</h3>'\n",
        "        'Do not use due to increased risk.'),\n",
        "    strike_pct=1,\n",
        "    comp_benchmarks=call_only_benchmarks,\n",
        "    comp_benchmarks_name='call_only')\n",
        "disply_trading_results(\n",
        "    title='Calls when indicator >0, ATM options, 2-week expiration',\n",
        "    desc=(\n",
        "        'This approach decreaes returns and varies based on risk adjusted '\n",
        "        'Calmar and sharpe returns.<br>'\n",
        "        '<h3>Analysis</h3>'\n",
        "        'Do not use. This does not improve on the baseline indicator strategy.'),\n",
        "    week_exp=2,\n",
        "    comp_benchmarks=call_only_benchmarks,\n",
        "    comp_benchmarks_name='call_only')\n",
        "None # Don't display the return value of the last line in the cell"
      ],
      "execution_count": null,
      "outputs": [
        {
          "output_type": "display_data",
          "data": {
            "text/plain": [
              "<IPython.core.display.HTML object>"
            ],
            "text/html": [
              "<h2>No indicators, Always buy calls</h2>The results of not using any indicators.\n",
              "Cindicator results are compared to these results"
            ]
          },
          "metadata": {
            "tags": []
          }
        },
        {
          "output_type": "display_data",
          "data": {
            "text/plain": [
              "                  annualized_mean calmar sharpe\n",
              "underlying_symbol                              \n",
              "IWM                          -24%    -5%   -0.1\n",
              "QQQ                          948%   226%    2.2\n",
              "SPY                          331%    74%    0.8"
            ],
            "text/html": [
              "<div>\n",
              "<style scoped>\n",
              "    .dataframe tbody tr th:only-of-type {\n",
              "        vertical-align: middle;\n",
              "    }\n",
              "\n",
              "    .dataframe tbody tr th {\n",
              "        vertical-align: top;\n",
              "    }\n",
              "\n",
              "    .dataframe thead th {\n",
              "        text-align: right;\n",
              "    }\n",
              "</style>\n",
              "<table border=\"1\" class=\"dataframe\">\n",
              "  <thead>\n",
              "    <tr style=\"text-align: right;\">\n",
              "      <th></th>\n",
              "      <th>annualized_mean</th>\n",
              "      <th>calmar</th>\n",
              "      <th>sharpe</th>\n",
              "    </tr>\n",
              "    <tr>\n",
              "      <th>underlying_symbol</th>\n",
              "      <th></th>\n",
              "      <th></th>\n",
              "      <th></th>\n",
              "    </tr>\n",
              "  </thead>\n",
              "  <tbody>\n",
              "    <tr>\n",
              "      <th>IWM</th>\n",
              "      <td>-24%</td>\n",
              "      <td>-5%</td>\n",
              "      <td>-0.1</td>\n",
              "    </tr>\n",
              "    <tr>\n",
              "      <th>QQQ</th>\n",
              "      <td>948%</td>\n",
              "      <td>226%</td>\n",
              "      <td>2.2</td>\n",
              "    </tr>\n",
              "    <tr>\n",
              "      <th>SPY</th>\n",
              "      <td>331%</td>\n",
              "      <td>74%</td>\n",
              "      <td>0.8</td>\n",
              "    </tr>\n",
              "  </tbody>\n",
              "</table>\n",
              "</div>"
            ]
          },
          "metadata": {
            "tags": []
          }
        },
        {
          "output_type": "display_data",
          "data": {
            "image/png": "[encoded data removed]",
            "text/plain": [
              "<IPython.core.display.Image object>"
            ]
          },
          "metadata": {
            "tags": []
          }
        },
        {
          "output_type": "display_data",
          "data": {
            "text/plain": [
              "<IPython.core.display.HTML object>"
            ],
            "text/html": [
              "<hr>"
            ]
          },
          "metadata": {
            "tags": []
          }
        },
        {
          "output_type": "display_data",
          "data": {
            "text/plain": [
              "<IPython.core.display.HTML object>"
            ],
            "text/html": [
              "<h2>Baseline Indicator Strategy</h2>Buy 1 Week ATM calls when indicator mean is postitive<p>The indicators demonstrate significant improvements to returns.<p>The returns are higher as measured in mean returns and risk adjusted Calmar and shapre returns.<h3>Analysis</h3>Use the indicators as a signal for trading vs always buying calls."
            ]
          },
          "metadata": {
            "tags": []
          }
        },
        {
          "output_type": "display_data",
          "data": {
            "text/plain": [
              "                  annualized_mean  calmar sharpe  \\\n",
              "underlying_symbol                                  \n",
              "IWM                        1,079%    553%    3.2   \n",
              "SPY                        1,431%  1,070%    4.3   \n",
              "\n",
              "                  annualized_mean_vs_no_indicator calmar_vs_no_indicator  \\\n",
              "underlying_symbol                                                          \n",
              "IWM                                        1,103%                   558%   \n",
              "SPY                                        1,100%                   996%   \n",
              "\n",
              "                  sharpe_vs_no_indicator  \n",
              "underlying_symbol                         \n",
              "IWM                                  3.2  \n",
              "SPY                                  3.5  "
            ],
            "text/html": [
              "<div>\n",
              "<style scoped>\n",
              "    .dataframe tbody tr th:only-of-type {\n",
              "        vertical-align: middle;\n",
              "    }\n",
              "\n",
              "    .dataframe tbody tr th {\n",
              "        vertical-align: top;\n",
              "    }\n",
              "\n",
              "    .dataframe thead th {\n",
              "        text-align: right;\n",
              "    }\n",
              "</style>\n",
              "<table border=\"1\" class=\"dataframe\">\n",
              "  <thead>\n",
              "    <tr style=\"text-align: right;\">\n",
              "      <th></th>\n",
              "      <th>annualized_mean</th>\n",
              "      <th>calmar</th>\n",
              "      <th>sharpe</th>\n",
              "      <th>annualized_mean_vs_no_indicator</th>\n",
              "      <th>calmar_vs_no_indicator</th>\n",
              "      <th>sharpe_vs_no_indicator</th>\n",
              "    </tr>\n",
              "    <tr>\n",
              "      <th>underlying_symbol</th>\n",
              "      <th></th>\n",
              "      <th></th>\n",
              "      <th></th>\n",
              "      <th></th>\n",
              "      <th></th>\n",
              "      <th></th>\n",
              "    </tr>\n",
              "  </thead>\n",
              "  <tbody>\n",
              "    <tr>\n",
              "      <th>IWM</th>\n",
              "      <td>1,079%</td>\n",
              "      <td>553%</td>\n",
              "      <td>3.2</td>\n",
              "      <td>1,103%</td>\n",
              "      <td>558%</td>\n",
              "      <td>3.2</td>\n",
              "    </tr>\n",
              "    <tr>\n",
              "      <th>SPY</th>\n",
              "      <td>1,431%</td>\n",
              "      <td>1,070%</td>\n",
              "      <td>4.3</td>\n",
              "      <td>1,100%</td>\n",
              "      <td>996%</td>\n",
              "      <td>3.5</td>\n",
              "    </tr>\n",
              "  </tbody>\n",
              "</table>\n",
              "</div>"
            ]
          },
          "metadata": {
            "tags": []
          }
        },
        {
          "output_type": "display_data",
          "data": {
            "image/png": "[encoded data removed]",
            "text/plain": [
              "<IPython.core.display.Image object>"
            ]
          },
          "metadata": {
            "tags": []
          }
        },
        {
          "output_type": "display_data",
          "data": {
            "text/plain": [
              "<IPython.core.display.HTML object>"
            ],
            "text/html": [
              "<hr>"
            ]
          },
          "metadata": {
            "tags": []
          }
        },
        {
          "output_type": "display_data",
          "data": {
            "text/plain": [
              "<IPython.core.display.HTML object>"
            ],
            "text/html": [
              "<h2>Baseline Indicator Strategy with Puts</h2>Buy 1 Week ATM calls when indicator mean is postitive<br>and 1 week ATM puts when indicator mean is negative<p/>Adding puts improves IWM reutrns but reduces SPY returns.<br>This comes at the cost of <b>increased risk</b> as measured by Calmar sharpe ratios.<br>Traing puts means reducing position sizes to account for risk increase<h3>Analysis</h3><b>Do not trade puts</b>, they always increase risk and sometimes increase returns"
            ]
          },
          "metadata": {
            "tags": []
          }
        },
        {
          "output_type": "display_data",
          "data": {
            "text/plain": [
              "                  annualized_mean calmar sharpe annualized_mean_vs_call_only  \\\n",
              "underlying_symbol                                                              \n",
              "IWM                        1,423%   272%    3.0                         344%   \n",
              "SPY                        1,267%   455%    2.9                        -164%   \n",
              "\n",
              "                  calmar_vs_call_only sharpe_vs_call_only  \n",
              "underlying_symbol                                          \n",
              "IWM                             -281%                -0.2  \n",
              "SPY                             -615%                -1.4  "
            ],
            "text/html": [
              "<div>\n",
              "<style scoped>\n",
              "    .dataframe tbody tr th:only-of-type {\n",
              "        vertical-align: middle;\n",
              "    }\n",
              "\n",
              "    .dataframe tbody tr th {\n",
              "        vertical-align: top;\n",
              "    }\n",
              "\n",
              "    .dataframe thead th {\n",
              "        text-align: right;\n",
              "    }\n",
              "</style>\n",
              "<table border=\"1\" class=\"dataframe\">\n",
              "  <thead>\n",
              "    <tr style=\"text-align: right;\">\n",
              "      <th></th>\n",
              "      <th>annualized_mean</th>\n",
              "      <th>calmar</th>\n",
              "      <th>sharpe</th>\n",
              "      <th>annualized_mean_vs_call_only</th>\n",
              "      <th>calmar_vs_call_only</th>\n",
              "      <th>sharpe_vs_call_only</th>\n",
              "    </tr>\n",
              "    <tr>\n",
              "      <th>underlying_symbol</th>\n",
              "      <th></th>\n",
              "      <th></th>\n",
              "      <th></th>\n",
              "      <th></th>\n",
              "      <th></th>\n",
              "      <th></th>\n",
              "    </tr>\n",
              "  </thead>\n",
              "  <tbody>\n",
              "    <tr>\n",
              "      <th>IWM</th>\n",
              "      <td>1,423%</td>\n",
              "      <td>272%</td>\n",
              "      <td>3.0</td>\n",
              "      <td>344%</td>\n",
              "      <td>-281%</td>\n",
              "      <td>-0.2</td>\n",
              "    </tr>\n",
              "    <tr>\n",
              "      <th>SPY</th>\n",
              "      <td>1,267%</td>\n",
              "      <td>455%</td>\n",
              "      <td>2.9</td>\n",
              "      <td>-164%</td>\n",
              "      <td>-615%</td>\n",
              "      <td>-1.4</td>\n",
              "    </tr>\n",
              "  </tbody>\n",
              "</table>\n",
              "</div>"
            ]
          },
          "metadata": {
            "tags": []
          }
        },
        {
          "output_type": "display_data",
          "data": {
            "image/png": "[encoded data removed]",
            "text/plain": [
              "<IPython.core.display.Image object>"
            ]
          },
          "metadata": {
            "tags": []
          }
        },
        {
          "output_type": "display_data",
          "data": {
            "text/plain": [
              "<IPython.core.display.HTML object>"
            ],
            "text/html": [
              "<hr>"
            ]
          },
          "metadata": {
            "tags": []
          }
        },
        {
          "output_type": "display_data",
          "data": {
            "text/plain": [
              "<IPython.core.display.HTML object>"
            ],
            "text/html": [
              "<h2>Calls when indicator >0 strike 1% of underlying price</h2>This approach increases overall all returns but <b>decreases</b> returns when accounting for risk as measured<br>by Calmar and sharpe. It would require reduced position sizes to trade.<h3>Analysis</h3>Do not use due to increased risk."
            ]
          },
          "metadata": {
            "tags": []
          }
        },
        {
          "output_type": "display_data",
          "data": {
            "text/plain": [
              "                  annualized_mean calmar sharpe annualized_mean_vs_call_only  \\\n",
              "underlying_symbol                                                              \n",
              "IWM                        1,447%   550%    3.0                         368%   \n",
              "SPY                        1,844%   419%    3.5                         414%   \n",
              "\n",
              "                  calmar_vs_call_only sharpe_vs_call_only  \n",
              "underlying_symbol                                          \n",
              "IWM                               -3%                -0.2  \n",
              "SPY                             -651%                -0.8  "
            ],
            "text/html": [
              "<div>\n",
              "<style scoped>\n",
              "    .dataframe tbody tr th:only-of-type {\n",
              "        vertical-align: middle;\n",
              "    }\n",
              "\n",
              "    .dataframe tbody tr th {\n",
              "        vertical-align: top;\n",
              "    }\n",
              "\n",
              "    .dataframe thead th {\n",
              "        text-align: right;\n",
              "    }\n",
              "</style>\n",
              "<table border=\"1\" class=\"dataframe\">\n",
              "  <thead>\n",
              "    <tr style=\"text-align: right;\">\n",
              "      <th></th>\n",
              "      <th>annualized_mean</th>\n",
              "      <th>calmar</th>\n",
              "      <th>sharpe</th>\n",
              "      <th>annualized_mean_vs_call_only</th>\n",
              "      <th>calmar_vs_call_only</th>\n",
              "      <th>sharpe_vs_call_only</th>\n",
              "    </tr>\n",
              "    <tr>\n",
              "      <th>underlying_symbol</th>\n",
              "      <th></th>\n",
              "      <th></th>\n",
              "      <th></th>\n",
              "      <th></th>\n",
              "      <th></th>\n",
              "      <th></th>\n",
              "    </tr>\n",
              "  </thead>\n",
              "  <tbody>\n",
              "    <tr>\n",
              "      <th>IWM</th>\n",
              "      <td>1,447%</td>\n",
              "      <td>550%</td>\n",
              "      <td>3.0</td>\n",
              "      <td>368%</td>\n",
              "      <td>-3%</td>\n",
              "      <td>-0.2</td>\n",
              "    </tr>\n",
              "    <tr>\n",
              "      <th>SPY</th>\n",
              "      <td>1,844%</td>\n",
              "      <td>419%</td>\n",
              "      <td>3.5</td>\n",
              "      <td>414%</td>\n",
              "      <td>-651%</td>\n",
              "      <td>-0.8</td>\n",
              "    </tr>\n",
              "  </tbody>\n",
              "</table>\n",
              "</div>"
            ]
          },
          "metadata": {
            "tags": []
          }
        },
        {
          "output_type": "display_data",
          "data": {
            "image/png": "[encoded data removed]",
            "text/plain": [
              "<IPython.core.display.Image object>"
            ]
          },
          "metadata": {
            "tags": []
          }
        },
        {
          "output_type": "display_data",
          "data": {
            "text/plain": [
              "<IPython.core.display.HTML object>"
            ],
            "text/html": [
              "<hr>"
            ]
          },
          "metadata": {
            "tags": []
          }
        },
        {
          "output_type": "display_data",
          "data": {
            "text/plain": [
              "<IPython.core.display.HTML object>"
            ],
            "text/html": [
              "<h2>Calls when indicator >0, ATM options, 2-week expiration</h2>This approach decreaes returns and varies based on risk adjusted Calmar and sharpe returns.<br><h3>Analysis</h3>Do not use. This does not improve on the baseline indicator strategy."
            ]
          },
          "metadata": {
            "tags": []
          }
        },
        {
          "output_type": "display_data",
          "data": {
            "text/plain": [
              "                  annualized_mean calmar sharpe annualized_mean_vs_call_only  \\\n",
              "underlying_symbol                                                              \n",
              "IWM                          874%   866%    3.9                        -205%   \n",
              "SPY                          873%   805%    4.3                        -558%   \n",
              "\n",
              "                  calmar_vs_call_only sharpe_vs_call_only  \n",
              "underlying_symbol                                          \n",
              "IWM                              313%                 0.8  \n",
              "SPY                             -265%                 0.0  "
            ],
            "text/html": [
              "<div>\n",
              "<style scoped>\n",
              "    .dataframe tbody tr th:only-of-type {\n",
              "        vertical-align: middle;\n",
              "    }\n",
              "\n",
              "    .dataframe tbody tr th {\n",
              "        vertical-align: top;\n",
              "    }\n",
              "\n",
              "    .dataframe thead th {\n",
              "        text-align: right;\n",
              "    }\n",
              "</style>\n",
              "<table border=\"1\" class=\"dataframe\">\n",
              "  <thead>\n",
              "    <tr style=\"text-align: right;\">\n",
              "      <th></th>\n",
              "      <th>annualized_mean</th>\n",
              "      <th>calmar</th>\n",
              "      <th>sharpe</th>\n",
              "      <th>annualized_mean_vs_call_only</th>\n",
              "      <th>calmar_vs_call_only</th>\n",
              "      <th>sharpe_vs_call_only</th>\n",
              "    </tr>\n",
              "    <tr>\n",
              "      <th>underlying_symbol</th>\n",
              "      <th></th>\n",
              "      <th></th>\n",
              "      <th></th>\n",
              "      <th></th>\n",
              "      <th></th>\n",
              "      <th></th>\n",
              "    </tr>\n",
              "  </thead>\n",
              "  <tbody>\n",
              "    <tr>\n",
              "      <th>IWM</th>\n",
              "      <td>874%</td>\n",
              "      <td>866%</td>\n",
              "      <td>3.9</td>\n",
              "      <td>-205%</td>\n",
              "      <td>313%</td>\n",
              "      <td>0.8</td>\n",
              "    </tr>\n",
              "    <tr>\n",
              "      <th>SPY</th>\n",
              "      <td>873%</td>\n",
              "      <td>805%</td>\n",
              "      <td>4.3</td>\n",
              "      <td>-558%</td>\n",
              "      <td>-265%</td>\n",
              "      <td>0.0</td>\n",
              "    </tr>\n",
              "  </tbody>\n",
              "</table>\n",
              "</div>"
            ]
          },
          "metadata": {
            "tags": []
          }
        },
        {
          "output_type": "display_data",
          "data": {
            "image/png": "[encoded data removed]",
            "text/plain": [
              "<IPython.core.display.Image object>"
            ]
          },
          "metadata": {
            "tags": []
          }
        },
        {
          "output_type": "display_data",
          "data": {
            "text/plain": [
              "<IPython.core.display.HTML object>"
            ],
            "text/html": [
              "<hr>"
            ]
          },
          "metadata": {
            "tags": []
          }
        },
        {
          "output_type": "display_data",
          "data": {
            "text/plain": [
              "<Figure size 432x288 with 0 Axes>"
            ]
          },
          "metadata": {
            "tags": []
          }
        },
        {
          "output_type": "display_data",
          "data": {
            "text/plain": [
              "<Figure size 432x288 with 0 Axes>"
            ]
          },
          "metadata": {
            "tags": []
          }
        },
        {
          "output_type": "display_data",
          "data": {
            "text/plain": [
              "<Figure size 432x288 with 0 Axes>"
            ]
          },
          "metadata": {
            "tags": []
          }
        },
        {
          "output_type": "display_data",
          "data": {
            "text/plain": [
              "<Figure size 432x288 with 0 Axes>"
            ]
          },
          "metadata": {
            "tags": []
          }
        },
        {
          "output_type": "display_data",
          "data": {
            "text/plain": [
              "<Figure size 432x288 with 0 Axes>"
            ]
          },
          "metadata": {
            "tags": []
          }
        }
      ]
    },
    {
      "cell_type": "code",
      "metadata": {
        "id": "mTksALWg8egF",
        "cellView": "form"
      },
      "source": [
        "#@title Optimize weights over all historical data\n",
        "# Configuration of indicator weights to optimize.\n",
        "indicator_weight_optimize_space = [\n",
        "  skopt.space.Real(-1, 1, name='esc_weight'),\n",
        "  skopt.space.Real(-1, 1, name='esf_weight'),\n",
        "  skopt.space.Real(-1, 1, name='ecc_weight'),\n",
        "  skopt.space.Real(-1, 1, name='bef_weight'),\n",
        "  skopt.space.Real(-1, 1, name='psc_weight'),\n",
        "  skopt.space.Real(-1, 1, name='pef_weight'),\n",
        "  skopt.space.Real(0, 1, name='last_week_weight')]\n",
        "\n",
        "call_sell_trigger_pct_space = skopt.space.Real(0, 8,\n",
        "                                               name='call_sell_trigger_pct')\n",
        "\n",
        "# Hard coded parameters for one-week ATM optimiztion.\n",
        "one_week_atm_hard_coded_space = dict(\n",
        "    strike_pct=0,\n",
        "    week_exp=1,\n",
        "    buy_puts_when_indicator_is_negative=False,\n",
        "    put_sell_trigger_pct=0)\n",
        "\n",
        "@dataclasses.dataclass\n",
        "class OptimizedParameters(object):\n",
        "  # Symbol to optimize\n",
        "  symbol: str\n",
        "  # Params to optimize\n",
        "  optimize_space: typing.List[skopt.space.Space]\n",
        "  # Hard-coded parameters. Fixed parameters that aren't optimized.\n",
        "  hard_coded_space: typing.Dict[str, typing.Any]\n",
        "  # Number of calls to optimize over. 800 takes ~4-hours\n",
        "  n_optimize_calls: int = 100\n",
        "  # Function that scores returns. E.g. mean of returns, Calmar of returns,\n",
        "  # sharpe of returns, etc\n",
        "  score_returns_fn: typing.Callable[[pd.Series], float] = get_truncated_calmar\n",
        "\n",
        "  results = None\n",
        "\n",
        "  def optimize(self):\n",
        "    with tqdm.trange(self.n_optimize_calls,\n",
        "                     desc=f'gp_minimize for {self.symbol}') as t:\n",
        "      optimize_space = self.optimize_space\n",
        "      num_objective_calls = [0]\n",
        "      @skopt.utils.use_named_args(optimize_space)\n",
        "      def objective(**kwargs):\n",
        "        t.update()\n",
        "        num_objective_calls[0] += 1\n",
        "        with open('/tmp/num_objective.txt', 'w') as fout:\n",
        "          fout.write(\n",
        "              f'{self.symbol}: num_objective_calls={num_objective_calls[0]}\\n')\n",
        "        duplicated_keys = set(self.hard_coded_space.keys()).intersection(kwargs.keys())\n",
        "        assert not duplicated_keys, duplicated_keys\n",
        "        get_return_args = dict(symbol=self.symbol)\n",
        "        get_return_args.update(self.hard_coded_space)\n",
        "        get_return_args.update(kwargs)\n",
        "        returns = get_returns(**get_return_args)\n",
        "        if returns.empty:\n",
        "          return 0\n",
        "        # Negative since gp_minimize minimizes results, but we want to maximize.\n",
        "        return -self.score_returns_fn(returns)\n",
        "\n",
        "      self.results = skopt.gp_minimize(\n",
        "          objective, optimize_space, n_calls=self.n_optimize_calls,\n",
        "          random_state=0, n_jobs=-1)\n",
        "      # Persist the results.\n",
        "      del objective\n",
        "      out_path = os.path.join(\n",
        "          '/tmp/',\n",
        "          f'results.{self.symbol}.{self.n_optimize_calls}.{uuid.uuid1()}.pickle.gz')\n",
        "      print(f'\\nwriting optimize results to {out_path}')\n",
        "      with gzip.GzipFile(out_path, mode='wb') as gout:\n",
        "        pickle.dump(self.results.x_iters, gout)\n",
        "    return self\n",
        "\n",
        "  @property\n",
        "  def optimize_calls(self) -> pd.DataFrame:\n",
        "    assert self.results is not None, 'optimize() has not been run yet'\n",
        "    results_list = [\n",
        "      dict(zip((s.name for s in self.optimize_space), i))\n",
        "      for i in self.results.x_iters]\n",
        "    for res in results_list:\n",
        "      get_returns_args = dict(symbol=self.symbol)\n",
        "      get_returns_args.update(self.hard_coded_space)\n",
        "      get_returns_args.update(res)\n",
        "      returns = get_returns(**get_returns_args)\n",
        "      res['mean_returns'] = returns.mean()\n",
        "      res['calmar'] = get_calmar(returns)\n",
        "      res['truncated_calmar'] = get_truncated_calmar(returns)\n",
        "      res['sharpe'] = get_sharpe(returns)\n",
        "      res['returns'] = returns\n",
        "      res['get_returns_args'] = get_returns_args\n",
        "    return pd.DataFrame.from_records(results_list).sort_values(\n",
        "        'truncated_calmar', ascending=False)\n",
        "\n",
        "  def display_results(self, title: str):\n",
        "    optimize_calls = self.optimize_calls\n",
        "    # Render the plot\n",
        "    plt.figure()\n",
        "    optimize_calls.sort_index()[[\n",
        "      'truncated_calmar', 'mean_returns', 'get_returns_args']].plot(\n",
        "        title=(\n",
        "            'Truncated Calmar & Mean Returns vs. gp_minimize iteration\\n'\n",
        "            'These values should rise as the iterations improve'),\n",
        "        secondary_y='mean_returns',\n",
        "        linewidth=1,\n",
        "        figsize=(20, 4))\n",
        "    imgbuf = io.BytesIO()\n",
        "    plt.savefig(imgbuf)\n",
        "    imgbuf.flush\n",
        "    plt.close()\n",
        "\n",
        "\n",
        "    display(\n",
        "        HTML(f'<h1>{title}</h1>'),\n",
        "        HTML('<h2>Best scoring optimized parameters</h2>'),\n",
        "        optimize_calls.drop('returns', axis=1).head(5))\n",
        "    display(Image(imgbuf.getvalue()))\n",
        "\n",
        "n_optimize_calls = 800\n",
        "spy_1_week_atm_optimization = OptimizedParameters(\n",
        "    symbol='SPY',\n",
        "    n_optimize_calls=n_optimize_calls,\n",
        "    optimize_space=(indicator_weight_optimize_space\n",
        "                    + [call_sell_trigger_pct_space]),\n",
        "    hard_coded_space=one_week_atm_hard_coded_space\n",
        ").optimize()\n",
        "iwm_1_week_atm_optimization = OptimizedParameters(\n",
        "    symbol='IWM',\n",
        "    n_optimize_calls=n_optimize_calls,\n",
        "    optimize_space=(indicator_weight_optimize_space\n",
        "                    + [call_sell_trigger_pct_space]),\n",
        "    hard_coded_space=one_week_atm_hard_coded_space\n",
        ").optimize()\n"
      ],
      "execution_count": null,
      "outputs": []
    },
    {
      "cell_type": "code",
      "metadata": {
        "colab": {
          "base_uri": "https://localhost:8080/",
          "height": 562
        },
        "id": "9R26NdBiqrJO",
        "cellView": "form",
        "outputId": "4af7d6bd-e71b-4889-b485-540acf845a95"
      },
      "source": [
        "#@title Compare Optimized IWM vs. SPY\n",
        "optimized_returns = pd.concat([\n",
        "  spy_1_week_atm_optimization.optimize_calls.iloc[0].returns,\n",
        "  iwm_1_week_atm_optimization.optimize_calls.iloc[0].returns])\n",
        "optimized_returns.index = (\n",
        "    optimized_returns.index.set_levels(\n",
        "      optimized_returns.index.levels[1] + '_optimized',\n",
        "      level='underlying_symbol'))\n",
        "\n",
        "indicator_mean_returns = pd.concat([\n",
        "  get_returns_with_defaults_params('SPY'),\n",
        "  get_returns_with_defaults_params('IWM')])\n",
        "indicator_mean_returns.index = (\n",
        "    indicator_mean_returns.index.set_levels(\n",
        "      indicator_mean_returns.index.levels[1] + '_indicator_mean',\n",
        "      level='underlying_symbol'))\n",
        "combined_returns =  pd.concat(\n",
        "    [optimized_returns, indicator_mean_returns]\n",
        ").sort_index()\n",
        "ax = combined_returns.droplevel(\n",
        "    ['strike_pct', 'week_exp']\n",
        ").sort_index().unstack(\n",
        "    'underlying_symbol'\n",
        ").fillna(0).cumsum().plot(\n",
        "    title='Indicator Mean vs. Optimized Indicators',\n",
        "    figsize=(10, 5)\n",
        ")\n",
        "ax.xaxis.set_label_text('')\n",
        "ax.yaxis.set_label_text('Cumulative returns\\nrelative to trade size')\n",
        "ax.yaxis.set_major_formatter(matplotlib.ticker.PercentFormatter(1))\n",
        "display(HTML('<h2>Mean Indicator vs. Optimized Performance</h2>'))\n",
        "get_benchmarks(combined_returns)"
      ],
      "execution_count": null,
      "outputs": [
        {
          "output_type": "display_data",
          "data": {
            "text/plain": [
              "<IPython.core.display.HTML object>"
            ],
            "text/html": [
              "<h2>Mean Indicator vs. Optimized Performance</h2>"
            ]
          },
          "metadata": {
            "tags": []
          }
        },
        {
          "output_type": "execute_result",
          "data": {
            "text/plain": [
              "                    annualized_mean     calmar    sharpe\n",
              "underlying_symbol                                       \n",
              "IWM_indicator_mean        10.790207   5.530172  3.155059\n",
              "IWM_optimized             21.419561  16.646234  5.562145\n",
              "SPY_indicator_mean        14.305645  10.698113  4.257692\n",
              "SPY_optimized             12.849824  15.278968  8.620316"
            ],
            "text/html": [
              "<div>\n",
              "<style scoped>\n",
              "    .dataframe tbody tr th:only-of-type {\n",
              "        vertical-align: middle;\n",
              "    }\n",
              "\n",
              "    .dataframe tbody tr th {\n",
              "        vertical-align: top;\n",
              "    }\n",
              "\n",
              "    .dataframe thead th {\n",
              "        text-align: right;\n",
              "    }\n",
              "</style>\n",
              "<table border=\"1\" class=\"dataframe\">\n",
              "  <thead>\n",
              "    <tr style=\"text-align: right;\">\n",
              "      <th></th>\n",
              "      <th>annualized_mean</th>\n",
              "      <th>calmar</th>\n",
              "      <th>sharpe</th>\n",
              "    </tr>\n",
              "    <tr>\n",
              "      <th>underlying_symbol</th>\n",
              "      <th></th>\n",
              "      <th></th>\n",
              "      <th></th>\n",
              "    </tr>\n",
              "  </thead>\n",
              "  <tbody>\n",
              "    <tr>\n",
              "      <th>IWM_indicator_mean</th>\n",
              "      <td>10.790207</td>\n",
              "      <td>5.530172</td>\n",
              "      <td>3.155059</td>\n",
              "    </tr>\n",
              "    <tr>\n",
              "      <th>IWM_optimized</th>\n",
              "      <td>21.419561</td>\n",
              "      <td>16.646234</td>\n",
              "      <td>5.562145</td>\n",
              "    </tr>\n",
              "    <tr>\n",
              "      <th>SPY_indicator_mean</th>\n",
              "      <td>14.305645</td>\n",
              "      <td>10.698113</td>\n",
              "      <td>4.257692</td>\n",
              "    </tr>\n",
              "    <tr>\n",
              "      <th>SPY_optimized</th>\n",
              "      <td>12.849824</td>\n",
              "      <td>15.278968</td>\n",
              "      <td>8.620316</td>\n",
              "    </tr>\n",
              "  </tbody>\n",
              "</table>\n",
              "</div>"
            ]
          },
          "metadata": {
            "tags": []
          },
          "execution_count": 177
        },
        {
          "output_type": "display_data",
          "data": {
            "text/plain": [
              "<Figure size 720x360 with 1 Axes>"
            ],
            "image/png": "[encoded data removed]"
          },
          "metadata": {
            "tags": [],
            "needs_background": "light"
          }
        }
      ]
    },
    {
      "cell_type": "code",
      "metadata": {
        "colab": {
          "base_uri": "https://localhost:8080/"
        },
        "id": "gH0N_EfWufpc",
        "cellView": "form",
        "outputId": "8520346e-4384-4c60-cf5a-15f87954c7c1"
      },
      "source": [
        "#@title Optimize weights until Dec-2020, reserve afterwards to compare against mean inidicator weight strategy.\n",
        "hard_coded_space_for_backtest = dict(one_week_atm_hard_coded_space.items())\n",
        "hard_coded_space_for_backtest['backtest_date_cuttoff'] = (\n",
        "    pd.Timestamp('2020-12-01'))\n",
        "\n",
        "n_optimize_calls = 700\n",
        "spy_1_week_atm_backtest_optimization = OptimizedParameters(\n",
        "    symbol='SPY',\n",
        "    n_optimize_calls=n_optimize_calls,\n",
        "    optimize_space=(indicator_weight_optimize_space\n",
        "                    + [call_sell_trigger_pct_space]),\n",
        "    hard_coded_space=hard_coded_space_for_backtest,\n",
        ").optimize()\n",
        "iwm_1_week_atm_backtest_optimization = OptimizedParameters(\n",
        "    symbol='IWM',\n",
        "    n_optimize_calls=n_optimize_calls,\n",
        "    optimize_space=(indicator_weight_optimize_space\n",
        "                    + [call_sell_trigger_pct_space]),\n",
        "    hard_coded_space=hard_coded_space_for_backtest,\n",
        ").optimize()"
      ],
      "execution_count": null,
      "outputs": [
        {
          "output_type": "stream",
          "text": [
            "gp_minimize for SPY: 100%|██████████| 700/700 [4:22:33<00:00, 22.50s/it]\n",
            "gp_minimize for IWM:   1%|▏         | 9/700 [00:00<00:07, 87.24it/s]"
          ],
          "name": "stderr"
        },
        {
          "output_type": "stream",
          "text": [
            "\n",
            "writing optimize results to /tmp/results.d6fa1aac-a13d-11eb-ab33-42010a800003.pickle.gz\n"
          ],
          "name": "stdout"
        },
        {
          "output_type": "stream",
          "text": [
            "gp_minimize for IWM:  81%|████████▏ | 569/700 [2:34:38<1:32:28, 42.36s/it]"
          ],
          "name": "stderr"
        }
      ]
    },
    {
      "cell_type": "markdown",
      "metadata": {
        "id": "ZeMDefCa2L8m"
      },
      "source": [
        "<h2>Analysis</h2>\n",
        "Inconclusive. IWM outperformed the mean indicaotr weights while SPY underperformed."
      ]
    },
    {
      "cell_type": "code",
      "metadata": {
        "colab": {
          "base_uri": "https://localhost:8080/",
          "height": 570
        },
        "cellView": "form",
        "id": "eznxGdS5vqzb",
        "outputId": "1fd05c38-0cea-4506-d83f-4640dc0f7ecf"
      },
      "source": [
        "#@title Compare Optimized IWM vs. SPY\n",
        "\n",
        "def del_backtest_date_cuttoff(d: typing.Dict) -> typing.Dict:\n",
        "  if 'backtest_date_cuttoff' in d:\n",
        "    d = dict(d)\n",
        "    del d['backtest_date_cuttoff']\n",
        "  return d\n",
        "\n",
        "optimized_returns = pd.concat([\n",
        "  get_returns(\n",
        "      **del_backtest_date_cuttoff(\n",
        "          spy_1_week_atm_backtest_optimization.optimize_calls.iloc[0]\n",
        "          .get_returns_args)),\n",
        "  get_returns(\n",
        "      **del_backtest_date_cuttoff(\n",
        "          iwm_1_week_atm_backtest_optimization.optimize_calls.iloc[0]\n",
        "          .get_returns_args))])\n",
        "\n",
        "optimized_returns.index = (\n",
        "    optimized_returns.index.set_levels(\n",
        "      optimized_returns.index.levels[1] + '_optimized',\n",
        "      level='underlying_symbol'))\n",
        "\n",
        "indicator_mean_returns = pd.concat([\n",
        "  get_returns_with_defaults_params('SPY'),\n",
        "  get_returns_with_defaults_params('IWM')])\n",
        "indicator_mean_returns.index = (\n",
        "    indicator_mean_returns.index.set_levels(\n",
        "      indicator_mean_returns.index.levels[1] + '_indicator_mean',\n",
        "      level='underlying_symbol'))\n",
        "combined_returns =  pd.concat(\n",
        "    [optimized_returns, indicator_mean_returns]\n",
        ").sort_index().loc[pd.IndexSlice['2020-12-10':], :]\n",
        "ax = combined_returns.droplevel(\n",
        "    ['strike_pct', 'week_exp']\n",
        ").sort_index().unstack(\n",
        "    'underlying_symbol'\n",
        ").fillna(0).cumsum().plot(\n",
        "    title='Indicator Mean vs. Optimized Indicators',\n",
        "    figsize=(10, 5)\n",
        ")\n",
        "ax.xaxis.set_label_text('')\n",
        "ax.yaxis.set_label_text('Cumulative returns\\nrelative to trade size')\n",
        "ax.yaxis.set_major_formatter(matplotlib.ticker.PercentFormatter(1))\n",
        "display(HTML('<h2>Mean Indicator vs. Optimized Performance</h2>'))\n",
        "get_benchmarks(combined_returns)"
      ],
      "execution_count": null,
      "outputs": [
        {
          "output_type": "display_data",
          "data": {
            "text/plain": [
              "<IPython.core.display.HTML object>"
            ],
            "text/html": [
              "<h2>Mean Indicator vs. Optimized Performance</h2>"
            ]
          },
          "metadata": {
            "tags": []
          }
        },
        {
          "output_type": "execute_result",
          "data": {
            "text/plain": [
              "                    annualized_mean    calmar     sharpe\n",
              "underlying_symbol                                       \n",
              "IWM_indicator_mean         6.541558  0.700508   1.682784\n",
              "IWM_optimized              6.322050  0.000000  17.983326\n",
              "SPY_indicator_mean         1.042857  0.138365   0.533019\n",
              "SPY_optimized             -6.683766 -0.546512  -3.221260"
            ],
            "text/html": [
              "<div>\n",
              "<style scoped>\n",
              "    .dataframe tbody tr th:only-of-type {\n",
              "        vertical-align: middle;\n",
              "    }\n",
              "\n",
              "    .dataframe tbody tr th {\n",
              "        vertical-align: top;\n",
              "    }\n",
              "\n",
              "    .dataframe thead th {\n",
              "        text-align: right;\n",
              "    }\n",
              "</style>\n",
              "<table border=\"1\" class=\"dataframe\">\n",
              "  <thead>\n",
              "    <tr style=\"text-align: right;\">\n",
              "      <th></th>\n",
              "      <th>annualized_mean</th>\n",
              "      <th>calmar</th>\n",
              "      <th>sharpe</th>\n",
              "    </tr>\n",
              "    <tr>\n",
              "      <th>underlying_symbol</th>\n",
              "      <th></th>\n",
              "      <th></th>\n",
              "      <th></th>\n",
              "    </tr>\n",
              "  </thead>\n",
              "  <tbody>\n",
              "    <tr>\n",
              "      <th>IWM_indicator_mean</th>\n",
              "      <td>6.541558</td>\n",
              "      <td>0.700508</td>\n",
              "      <td>1.682784</td>\n",
              "    </tr>\n",
              "    <tr>\n",
              "      <th>IWM_optimized</th>\n",
              "      <td>6.322050</td>\n",
              "      <td>0.000000</td>\n",
              "      <td>17.983326</td>\n",
              "    </tr>\n",
              "    <tr>\n",
              "      <th>SPY_indicator_mean</th>\n",
              "      <td>1.042857</td>\n",
              "      <td>0.138365</td>\n",
              "      <td>0.533019</td>\n",
              "    </tr>\n",
              "    <tr>\n",
              "      <th>SPY_optimized</th>\n",
              "      <td>-6.683766</td>\n",
              "      <td>-0.546512</td>\n",
              "      <td>-3.221260</td>\n",
              "    </tr>\n",
              "  </tbody>\n",
              "</table>\n",
              "</div>"
            ]
          },
          "metadata": {
            "tags": []
          },
          "execution_count": 41
        },
        {
          "output_type": "display_data",
          "data": {
            "text/plain": [
              "<Figure size 720x360 with 1 Axes>"
            ],
            "image/png": "[encoded data removed]"
          },
          "metadata": {
            "tags": [],
            "needs_background": "light"
          }
        }
      ]
    },
    {
      "cell_type": "code",
      "metadata": {
        "id": "Axcb0vj6uvLR"
      },
      "source": [
        ""
      ],
      "execution_count": null,
      "outputs": []
    }
  ]
}